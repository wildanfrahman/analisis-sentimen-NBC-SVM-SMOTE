{
 "cells": [
  {
   "cell_type": "markdown",
   "id": "7b0a213c",
   "metadata": {},
   "source": [
    "# IMPORT LIBRARY"
   ]
  },
  {
   "cell_type": "code",
   "execution_count": null,
   "id": "120d45f2",
   "metadata": {},
   "outputs": [],
   "source": [
    "import pandas as pd\n",
    "pd.set_option('max_colwidth',1)\n",
    "import numpy as np\n",
    "import seaborn as sns\n",
    "import nltk\n",
    "import re\n",
    "import matplotlib.pyplot as plt\n",
    "\n",
    "from nltk.tokenize import word_tokenize\n",
    "from nltk.corpus import stopwords\n",
    "from Sastrawi.Stemmer.StemmerFactory import StemmerFactory"
   ]
  },
  {
   "cell_type": "markdown",
   "id": "b4ff70b6",
   "metadata": {},
   "source": [
    "# IMPORT DATA"
   ]
  },
  {
   "cell_type": "code",
   "execution_count": null,
   "id": "8088131a",
   "metadata": {},
   "outputs": [],
   "source": [
    "data = pd.read_csv('dataset/dataig.csv')\n",
    "data"
   ]
  },
  {
   "cell_type": "code",
   "execution_count": null,
   "id": "99410205",
   "metadata": {},
   "outputs": [],
   "source": [
    "data = data[['komentar']]\n",
    "data"
   ]
  },
  {
   "cell_type": "code",
   "execution_count": null,
   "id": "9e6b1204",
   "metadata": {},
   "outputs": [],
   "source": [
    "data.shape"
   ]
  },
  {
   "cell_type": "code",
   "execution_count": null,
   "id": "d919b7c6",
   "metadata": {},
   "outputs": [],
   "source": [
    "data.head(10)"
   ]
  },
  {
   "cell_type": "markdown",
   "id": "06c8c6ac",
   "metadata": {},
   "source": [
    "# PREPOCESSING"
   ]
  },
  {
   "cell_type": "code",
   "execution_count": null,
   "id": "7b92b265",
   "metadata": {},
   "outputs": [],
   "source": [
    "nltk.download('stopwords')\n",
    "nltk.download('punkt')\n",
    "nltk.download('wordnet')\n",
    "nltk.download('omw-1.4')"
   ]
  },
  {
   "cell_type": "code",
   "execution_count": null,
   "id": "b380e6e6",
   "metadata": {
    "scrolled": true
   },
   "outputs": [],
   "source": [
    "#casefolding\n",
    "def text_prep(teks):\n",
    "    teks = str(teks).lower()\n",
    "    teks = re.sub('@[\\w]+','',str(teks))\n",
    "    teks = re.sub('[^a-zA-Z]','  ', str(teks))\n",
    "    teks = re.sub(r\"\\b[a-zA-Z]\\b\", \"\", teks)\n",
    "    teks = re.sub('\\s+',' ',teks)\n",
    "    return teks\n",
    "data['text_prep'] = data['komentar'].apply(text_prep)\n",
    "data.head(10)"
   ]
  },
  {
   "cell_type": "code",
   "execution_count": null,
   "id": "7faf0efc",
   "metadata": {
    "scrolled": true
   },
   "outputs": [],
   "source": [
    "#tokenize\n",
    "def text_prep(teks):\n",
    "    teks = word_tokenize(teks)\n",
    "    return teks\n",
    "data['text_prep'] = data['text_prep'].apply(text_prep)\n",
    "data.head(10)"
   ]
  },
  {
   "cell_type": "code",
   "execution_count": null,
   "id": "cb64c0ac",
   "metadata": {
    "scrolled": true
   },
   "outputs": [],
   "source": [
    "normalizad_word = pd.read_excel(\"kamus/normalisasi.xlsx\")\n",
    "normalizad_word_dict = {}\n",
    "for index, row in normalizad_word.iterrows():\n",
    "    if row[0] not in normalizad_word_dict:\n",
    "        normalizad_word_dict[row[0]] = row[1]\n",
    "        \n",
    "def normalized_term(document):\n",
    "    return [normalizad_word_dict[term] if term in normalizad_word_dict else term for term in document]\n",
    "data['text_prep'] = data['text_prep'].apply(normalized_term)\n",
    "data.head(10)"
   ]
  },
  {
   "cell_type": "code",
   "execution_count": null,
   "id": "83e91b55",
   "metadata": {},
   "outputs": [],
   "source": [
    "#filtering-stopword\n",
    "stop_words = set(stopwords.words(\"indonesian\"))\n",
    "ex_stopword = ['plis','yanb','ke','ku','ko','fyi','nya']\n",
    "def text_prep(teks):\n",
    "    teks = [item for item in teks if item not in stopwords.words('indonesian')+ex_stopword]\n",
    "    return teks\n",
    "data['text_prep'] = data['text_prep'].apply(text_prep)\n",
    "data.head(10)"
   ]
  },
  {
   "cell_type": "code",
   "execution_count": null,
   "id": "52072088",
   "metadata": {
    "scrolled": true
   },
   "outputs": [],
   "source": [
    "#stemmer sastrawi\n",
    "factory = StemmerFactory()\n",
    "stemmer = factory.create_stemmer()\n",
    "def text_prep(teks):\n",
    "    teks = str(teks).lower()\n",
    "    teks = stemmer.stem(teks)\n",
    "    return teks\n",
    "data['text_prep'] = data['text_prep'].apply(text_prep)\n",
    "data.head(10)"
   ]
  },
  {
   "cell_type": "code",
   "execution_count": null,
   "id": "28e8186c",
   "metadata": {},
   "outputs": [],
   "source": [
    "data = data[['text_prep']]\n",
    "data = data.drop_duplicates()\n",
    "data"
   ]
  },
  {
   "cell_type": "code",
   "execution_count": null,
   "id": "ad1bf89e",
   "metadata": {},
   "outputs": [],
   "source": [
    "data.to_csv(r'C:\\Users\\dundindan\\skripsi\\dataset\\teks_prep_ig.csv')"
   ]
  },
  {
   "cell_type": "markdown",
   "id": "6106d59a",
   "metadata": {},
   "source": [
    "# TF-IDF"
   ]
  },
  {
   "cell_type": "code",
   "execution_count": null,
   "id": "0aef3253",
   "metadata": {},
   "outputs": [],
   "source": [
    "data = pd.read_csv('dataset/ig_label.csv')\n",
    "data"
   ]
  },
  {
   "cell_type": "code",
   "execution_count": null,
   "id": "d4b3c1cf",
   "metadata": {},
   "outputs": [],
   "source": [
    "#mengubah menjadi numerik\n",
    "from sklearn.preprocessing import LabelEncoder\n",
    "le = LabelEncoder()\n",
    "data['sentimen'] = le.fit_transform(data['sentimen'])\n",
    "data"
   ]
  },
  {
   "cell_type": "code",
   "execution_count": null,
   "id": "aee344a3",
   "metadata": {},
   "outputs": [],
   "source": [
    "from sklearn.feature_extraction.text import CountVectorizer\n",
    "from sklearn.feature_extraction.text import TfidfVectorizer\n",
    "\n",
    "cv = CountVectorizer()\n",
    "tv = TfidfVectorizer()\n",
    "\n",
    "count = cv.fit_transform(data['text_prep'])\n",
    "tf_v = tv.fit_transform(data['text_prep'])"
   ]
  },
  {
   "cell_type": "markdown",
   "id": "85d2c9f9",
   "metadata": {},
   "source": [
    "# SMOTE"
   ]
  },
  {
   "cell_type": "code",
   "execution_count": null,
   "id": "d646a6e8",
   "metadata": {},
   "outputs": [],
   "source": [
    "from imblearn.over_sampling import SMOTE\n",
    "x = tf_v\n",
    "y = data['sentimen']"
   ]
  },
  {
   "cell_type": "code",
   "execution_count": null,
   "id": "17ff2ec3",
   "metadata": {},
   "outputs": [],
   "source": [
    "sm = SMOTE(random_state=42)\n",
    "X_sampling, Y_sampling = sm.fit_resample(x, y)"
   ]
  },
  {
   "cell_type": "code",
   "execution_count": null,
   "id": "506097ac",
   "metadata": {},
   "outputs": [],
   "source": [
    "print(x.shape)\n",
    "print(y.shape)"
   ]
  },
  {
   "cell_type": "code",
   "execution_count": null,
   "id": "e9c1d3b0",
   "metadata": {},
   "outputs": [],
   "source": [
    "print(X_sampling.shape)\n",
    "print(Y_sampling.shape)"
   ]
  },
  {
   "cell_type": "code",
   "execution_count": null,
   "id": "74a19a3c",
   "metadata": {},
   "outputs": [],
   "source": [
    "sns.histplot(data=Y_sampling)\n",
    "plt.show"
   ]
  },
  {
   "cell_type": "markdown",
   "id": "18167498",
   "metadata": {},
   "source": [
    "# SPLITTING DATA"
   ]
  },
  {
   "cell_type": "code",
   "execution_count": null,
   "id": "c0f17575",
   "metadata": {},
   "outputs": [],
   "source": [
    "from sklearn.model_selection import train_test_split\n",
    "\n",
    "X_train, X_test, Y_train, Y_test = train_test_split(X_sampling,Y_sampling, test_size=0.50, random_state = 42)\n",
    "X_test.shape"
   ]
  },
  {
   "cell_type": "markdown",
   "id": "d0a601bc",
   "metadata": {},
   "source": [
    "# MODELLING"
   ]
  },
  {
   "cell_type": "code",
   "execution_count": null,
   "id": "db93c56a",
   "metadata": {},
   "outputs": [],
   "source": [
    "import seaborn as sns\n",
    "import matplotlib.pyplot as plt\n",
    "from sklearn.naive_bayes import MultinomialNB\n",
    "from sklearn.metrics import classification_report, accuracy_score\n",
    "from sklearn.metrics import precision_score, recall_score, f1_score\n",
    "from sklearn.metrics import confusion_matrix\n",
    "\n",
    "classifier = MultinomialNB()\n",
    "classifier.fit(X_train, Y_train)\n",
    "naive_bayes_pred = classifier.predict(X_test)\n",
    "print(classification_report(Y_test, naive_bayes_pred))"
   ]
  },
  {
   "cell_type": "code",
   "execution_count": null,
   "id": "3b4883a8",
   "metadata": {},
   "outputs": [],
   "source": [
    "conma = confusion_matrix(Y_test, naive_bayes_pred)\n",
    "conma"
   ]
  },
  {
   "cell_type": "code",
   "execution_count": null,
   "id": "02f62ee5",
   "metadata": {
    "scrolled": true
   },
   "outputs": [],
   "source": [
    "sns.heatmap(conma, annot=True, cmap='binary')\n",
    "plt.xlabel('Prediksi')\n",
    "plt.ylabel('Aktual')\n",
    "plt.title('Confusion Matrix')\n",
    "plt.show()"
   ]
  },
  {
   "cell_type": "code",
   "execution_count": 2,
   "id": "d5cdd33f",
   "metadata": {},
   "outputs": [
    {
     "ename": "NameError",
     "evalue": "name 'X_train' is not defined",
     "output_type": "error",
     "traceback": [
      "\u001b[1;31m---------------------------------------------------------------------------\u001b[0m",
      "\u001b[1;31mNameError\u001b[0m                                 Traceback (most recent call last)",
      "Cell \u001b[1;32mIn[2], line 3\u001b[0m\n\u001b[0;32m      1\u001b[0m \u001b[38;5;28;01mfrom\u001b[39;00m \u001b[38;5;21;01msklearn\u001b[39;00m\u001b[38;5;21;01m.\u001b[39;00m\u001b[38;5;21;01msvm\u001b[39;00m \u001b[38;5;28;01mimport\u001b[39;00m SVC\n\u001b[0;32m      2\u001b[0m classifier \u001b[38;5;241m=\u001b[39m SVC(kernel \u001b[38;5;241m=\u001b[39m \u001b[38;5;124m'\u001b[39m\u001b[38;5;124mlinear\u001b[39m\u001b[38;5;124m'\u001b[39m, C\u001b[38;5;241m=\u001b[39m [\u001b[38;5;241m0.1\u001b[39m, \u001b[38;5;241m1\u001b[39m, \u001b[38;5;241m10\u001b[39m, \u001b[38;5;241m100\u001b[39m, \u001b[38;5;241m1000\u001b[39m] , random_state \u001b[38;5;241m=\u001b[39m \u001b[38;5;241m42\u001b[39m)\n\u001b[1;32m----> 3\u001b[0m classifier\u001b[38;5;241m.\u001b[39mfit(\u001b[43mX_train\u001b[49m, Y_train)\n\u001b[0;32m      4\u001b[0m svm_pred \u001b[38;5;241m=\u001b[39m classifier\u001b[38;5;241m.\u001b[39mpredict(X_test)\n\u001b[0;32m      5\u001b[0m \u001b[38;5;66;03m# Classification report\u001b[39;00m\n",
      "\u001b[1;31mNameError\u001b[0m: name 'X_train' is not defined"
     ]
    }
   ],
   "source": [
    "from sklearn.svm import SVC\n",
    "classifier = SVC(kernel = 'linear', C = [0.1, 1, 10, 100, 1000] , random_state = 42)\n",
    "classifier.fit(X_train, Y_train)\n",
    "svm_pred = classifier.predict(X_test)\n",
    "# Classification report\n",
    "print(classification_report(Y_test, svm_pred))"
   ]
  },
  {
   "cell_type": "code",
   "execution_count": null,
   "id": "235667b9",
   "metadata": {},
   "outputs": [],
   "source": [
    "from sklearn.metrics import mean_squared_error\n",
    "\n",
    "RMSE = mean_squared_error(Y_test, svm_pred)\n",
    "\n",
    "print('Root Mean Square Error :', RMSE)"
   ]
  },
  {
   "cell_type": "code",
   "execution_count": null,
   "id": "d7c5b0f7",
   "metadata": {},
   "outputs": [],
   "source": [
    "conma2 = confusion_matrix(Y_test, svm_pred)\n",
    "conma2"
   ]
  },
  {
   "cell_type": "code",
   "execution_count": null,
   "id": "7170b67d",
   "metadata": {},
   "outputs": [],
   "source": [
    "sns.heatmap(conma2, annot=True, cmap='binary')\n",
    "plt.xlabel('Prediksi')\n",
    "plt.ylabel('Aktual')\n",
    "plt.title('Confusion Matrix')\n",
    "plt.show()"
   ]
  },
  {
   "cell_type": "code",
   "execution_count": null,
   "id": "f5cb555b",
   "metadata": {},
   "outputs": [],
   "source": [
    "#visualisasi\n",
    "\n",
    "# menampilkan jumlah data untuk setiap score\n",
    "sns.countplot(x='', data=data)\n",
    "plt.show()"
   ]
  }
 ],
 "metadata": {
  "kernelspec": {
   "display_name": "Python 3 (ipykernel)",
   "language": "python",
   "name": "python3"
  },
  "language_info": {
   "codemirror_mode": {
    "name": "ipython",
    "version": 3
   },
   "file_extension": ".py",
   "mimetype": "text/x-python",
   "name": "python",
   "nbconvert_exporter": "python",
   "pygments_lexer": "ipython3",
   "version": "3.10.9"
  }
 },
 "nbformat": 4,
 "nbformat_minor": 5
}
