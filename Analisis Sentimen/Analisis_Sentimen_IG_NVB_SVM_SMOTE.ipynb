{
 "cells": [
  {
   "cell_type": "code",
   "execution_count": 1,
   "id": "1199ce0b",
   "metadata": {},
   "outputs": [],
   "source": [
    "# Import library\n",
    "import pandas as pd\n",
    "pd.options.mode.chained_assignment = None\n",
    "pd.set_option('max_colwidth',1)\n",
    "import numpy as np\n",
    "seed = 0\n",
    "np.random.seed(seed)\n",
    "import nltk\n",
    "import matplotlib.pyplot as plt\n",
    "import seaborn as sns\n",
    "\n",
    "import nest_asyncio\n",
    "nest_asyncio.apply()\n",
    "import seaborn as sns\n",
    "\n",
    "import re\n",
    "import string\n",
    "from nltk.tokenize import word_tokenize\n",
    "from nltk.corpus import stopwords\n",
    "\n",
    "from Sastrawi.Stemmer.StemmerFactory import StemmerFactory\n",
    "from Sastrawi.StopWordRemover.StopWordRemoverFactory import StopWordRemoverFactory"
   ]
  },
  {
   "cell_type": "code",
   "execution_count": 2,
   "id": "fb6461b7",
   "metadata": {},
   "outputs": [
    {
     "data": {
      "text/html": [
       "<div>\n",
       "<style scoped>\n",
       "    .dataframe tbody tr th:only-of-type {\n",
       "        vertical-align: middle;\n",
       "    }\n",
       "\n",
       "    .dataframe tbody tr th {\n",
       "        vertical-align: top;\n",
       "    }\n",
       "\n",
       "    .dataframe thead th {\n",
       "        text-align: right;\n",
       "    }\n",
       "</style>\n",
       "<table border=\"1\" class=\"dataframe\">\n",
       "  <thead>\n",
       "    <tr style=\"text-align: right;\">\n",
       "      <th></th>\n",
       "      <th>username</th>\n",
       "      <th>komentar</th>\n",
       "    </tr>\n",
       "  </thead>\n",
       "  <tbody>\n",
       "    <tr>\n",
       "      <th>0</th>\n",
       "      <td>joelliea</td>\n",
       "      <td>Login pake nomor hape yang SUDAH TERDAFTAR di Peduli Lindungi, ga bisa dan diminta register. Lanjut register dengan nomor hape YANG SAMA dan YANG SELAMA INI DIPAKAI untuk masuk ke Peduli Lindungi (ga pernah ganti nomor!), masuk ke Satu Sehat tapi NAMA TIDAK DITEMUKAN, NIK TIDAK DITEMUKAN (kapan saya pernah ganti nama dan ganti NIK padahal udah vaksin 3x toloong!). Logout dan coba login lagi dengan nomor hape yang sama .. diminta register lagi. Ini aplikasi Satu Sehat wajib diinstall ga sih? Wajib/perlu dipake? Kalo ga perlu, aku delete aja deh. Kok ribet mau login/daftar aja ??!!!</td>\n",
       "    </tr>\n",
       "    <tr>\n",
       "      <th>1</th>\n",
       "      <td>soffi.septiana</td>\n",
       "      <td>Gabisa login sama sekali😢</td>\n",
       "    </tr>\n",
       "    <tr>\n",
       "      <th>2</th>\n",
       "      <td>peplizaza</td>\n",
       "      <td>Sertifikat vaksin booster ke 2 ku gk masuk, gimana itu?</td>\n",
       "    </tr>\n",
       "    <tr>\n",
       "      <th>3</th>\n",
       "      <td>triamayanti92</td>\n",
       "      <td>Ga jelas bgt, malah ilang sertifikat nya boss</td>\n",
       "    </tr>\n",
       "    <tr>\n",
       "      <th>4</th>\n",
       "      <td>ulfahnurra</td>\n",
       "      <td>Plis kalo bikin aplikasi yg bagus ya pak bu, aplikasi masih banyak bug jangan di rilis duluuu👍👍👍👍</td>\n",
       "    </tr>\n",
       "    <tr>\n",
       "      <th>...</th>\n",
       "      <td>...</td>\n",
       "      <td>...</td>\n",
       "    </tr>\n",
       "    <tr>\n",
       "      <th>3098</th>\n",
       "      <td>pratamakamiliki</td>\n",
       "      <td>❤️</td>\n",
       "    </tr>\n",
       "    <tr>\n",
       "      <th>3099</th>\n",
       "      <td>dmini4596</td>\n",
       "      <td>Tolong min saya sudah vaksin boster tapi setelah ganti di SATUSEHAT kembali lagi ke vaksin2 dan sertifikatnya nggak ada ,tolong itu bisa kembali apa gimana @pedulilindungi.id</td>\n",
       "    </tr>\n",
       "    <tr>\n",
       "      <th>3100</th>\n",
       "      <td>astitirahayu_</td>\n",
       "      <td>Udah vaksin 4x tapi vaksin terakhir hilang stelah update😢</td>\n",
       "    </tr>\n",
       "    <tr>\n",
       "      <th>3101</th>\n",
       "      <td>afrilianiputri_</td>\n",
       "      <td>Sudah bisa login, tapi sertifikat vaksinnya gaada. Dan juga info vaksin masih booster pertama, padahal sudah booster kedua. Semoga bisa disempurnakan lagi aplikasinya.</td>\n",
       "    </tr>\n",
       "    <tr>\n",
       "      <th>3102</th>\n",
       "      <td>25dikimahendra_</td>\n",
       "      <td>Di update sertifikat vaksin boster nya malah hilang, dan status nya jdi belum vaksin aneh..</td>\n",
       "    </tr>\n",
       "  </tbody>\n",
       "</table>\n",
       "<p>3103 rows × 2 columns</p>\n",
       "</div>"
      ],
      "text/plain": [
       "             username  \\\n",
       "0     joelliea          \n",
       "1     soffi.septiana    \n",
       "2     peplizaza         \n",
       "3     triamayanti92     \n",
       "4     ulfahnurra        \n",
       "...          ...        \n",
       "3098  pratamakamiliki   \n",
       "3099  dmini4596         \n",
       "3100  astitirahayu_     \n",
       "3101  afrilianiputri_   \n",
       "3102  25dikimahendra_   \n",
       "\n",
       "                                                                                                                                                                                                                                                                                                                                                                                                                                                                                                                                                                                                         komentar  \n",
       "0     Login pake nomor hape yang SUDAH TERDAFTAR di Peduli Lindungi, ga bisa dan diminta register. Lanjut register dengan nomor hape YANG SAMA dan YANG SELAMA INI DIPAKAI untuk masuk ke Peduli Lindungi (ga pernah ganti nomor!), masuk ke Satu Sehat tapi NAMA TIDAK DITEMUKAN, NIK TIDAK DITEMUKAN (kapan saya pernah ganti nama dan ganti NIK padahal udah vaksin 3x toloong!). Logout dan coba login lagi dengan nomor hape yang sama .. diminta register lagi. Ini aplikasi Satu Sehat wajib diinstall ga sih? Wajib/perlu dipake? Kalo ga perlu, aku delete aja deh. Kok ribet mau login/daftar aja ??!!!  \n",
       "1     Gabisa login sama sekali😢                                                                                                                                                                                                                                                                                                                                                                                                                                                                                                                                                                                    \n",
       "2     Sertifikat vaksin booster ke 2 ku gk masuk, gimana itu?                                                                                                                                                                                                                                                                                                                                                                                                                                                                                                                                                      \n",
       "3     Ga jelas bgt, malah ilang sertifikat nya boss                                                                                                                                                                                                                                                                                                                                                                                                                                                                                                                                                                \n",
       "4     Plis kalo bikin aplikasi yg bagus ya pak bu, aplikasi masih banyak bug jangan di rilis duluuu👍👍👍👍                                                                                                                                                                                                                                                                                                                                                                                                                                                                                                            \n",
       "...                                                                                                 ...                                                                                                                                                                                                                                                                                                                                                                                                                                                                                                            \n",
       "3098  ❤️                                                                                                                                                                                                                                                                                                                                                                                                                                                                                                                                                                                                           \n",
       "3099  Tolong min saya sudah vaksin boster tapi setelah ganti di SATUSEHAT kembali lagi ke vaksin2 dan sertifikatnya nggak ada ,tolong itu bisa kembali apa gimana @pedulilindungi.id                                                                                                                                                                                                                                                                                                                                                                                                                               \n",
       "3100  Udah vaksin 4x tapi vaksin terakhir hilang stelah update😢                                                                                                                                                                                                                                                                                                                                                                                                                                                                                                                                                    \n",
       "3101  Sudah bisa login, tapi sertifikat vaksinnya gaada. Dan juga info vaksin masih booster pertama, padahal sudah booster kedua. Semoga bisa disempurnakan lagi aplikasinya.                                                                                                                                                                                                                                                                                                                                                                                                                                      \n",
       "3102  Di update sertifikat vaksin boster nya malah hilang, dan status nya jdi belum vaksin aneh..                                                                                                                                                                                                                                                                                                                                                                                                                                                                                                                  \n",
       "\n",
       "[3103 rows x 2 columns]"
      ]
     },
     "execution_count": 2,
     "metadata": {},
     "output_type": "execute_result"
    }
   ],
   "source": [
    "data = pd.read_csv('dataset/dataig.csv')\n",
    "data"
   ]
  },
  {
   "cell_type": "code",
   "execution_count": 3,
   "id": "9ad1c01e",
   "metadata": {},
   "outputs": [],
   "source": [
    "data = data[['komentar']]"
   ]
  },
  {
   "cell_type": "code",
   "execution_count": 4,
   "id": "90748427",
   "metadata": {
    "scrolled": true
   },
   "outputs": [
    {
     "data": {
      "text/plain": [
       "(3103, 1)"
      ]
     },
     "execution_count": 4,
     "metadata": {},
     "output_type": "execute_result"
    }
   ],
   "source": [
    "data.shape"
   ]
  },
  {
   "cell_type": "code",
   "execution_count": 5,
   "id": "2e7bcf33",
   "metadata": {
    "scrolled": false
   },
   "outputs": [
    {
     "data": {
      "text/html": [
       "<div>\n",
       "<style scoped>\n",
       "    .dataframe tbody tr th:only-of-type {\n",
       "        vertical-align: middle;\n",
       "    }\n",
       "\n",
       "    .dataframe tbody tr th {\n",
       "        vertical-align: top;\n",
       "    }\n",
       "\n",
       "    .dataframe thead th {\n",
       "        text-align: right;\n",
       "    }\n",
       "</style>\n",
       "<table border=\"1\" class=\"dataframe\">\n",
       "  <thead>\n",
       "    <tr style=\"text-align: right;\">\n",
       "      <th></th>\n",
       "      <th>komentar</th>\n",
       "    </tr>\n",
       "  </thead>\n",
       "  <tbody>\n",
       "    <tr>\n",
       "      <th>0</th>\n",
       "      <td>Login pake nomor hape yang SUDAH TERDAFTAR di Peduli Lindungi, ga bisa dan diminta register. Lanjut register dengan nomor hape YANG SAMA dan YANG SELAMA INI DIPAKAI untuk masuk ke Peduli Lindungi (ga pernah ganti nomor!), masuk ke Satu Sehat tapi NAMA TIDAK DITEMUKAN, NIK TIDAK DITEMUKAN (kapan saya pernah ganti nama dan ganti NIK padahal udah vaksin 3x toloong!). Logout dan coba login lagi dengan nomor hape yang sama .. diminta register lagi. Ini aplikasi Satu Sehat wajib diinstall ga sih? Wajib/perlu dipake? Kalo ga perlu, aku delete aja deh. Kok ribet mau login/daftar aja ??!!!</td>\n",
       "    </tr>\n",
       "    <tr>\n",
       "      <th>1</th>\n",
       "      <td>Gabisa login sama sekali😢</td>\n",
       "    </tr>\n",
       "    <tr>\n",
       "      <th>2</th>\n",
       "      <td>Sertifikat vaksin booster ke 2 ku gk masuk, gimana itu?</td>\n",
       "    </tr>\n",
       "    <tr>\n",
       "      <th>3</th>\n",
       "      <td>Ga jelas bgt, malah ilang sertifikat nya boss</td>\n",
       "    </tr>\n",
       "    <tr>\n",
       "      <th>4</th>\n",
       "      <td>Plis kalo bikin aplikasi yg bagus ya pak bu, aplikasi masih banyak bug jangan di rilis duluuu👍👍👍👍</td>\n",
       "    </tr>\n",
       "    <tr>\n",
       "      <th>5</th>\n",
       "      <td>Saya pengguna IOS. Sertifkat Vaksin booster tercantum dalam aplkasi. Namun, ketika diunduh, hanya Booster 1 yang ada. Kok ga sinkron aplikasi ini? Aplikasi sebelumnya jauh lebih baik. Mohon info. Saya sudah coba unduh berkali-kali, namun tetap booster 1 yanb terlihat. Ada baiknya dilakukan trial and error sebelum launching aplikasi. Terlalu banyak orang yang complain akan hal ini, termasuk saya</td>\n",
       "    </tr>\n",
       "    <tr>\n",
       "      <th>6</th>\n",
       "      <td>Mau login tulisannya terjadi kesalahan.</td>\n",
       "    </tr>\n",
       "    <tr>\n",
       "      <th>7</th>\n",
       "      <td>Habis updated ke SatuSehat vaksin sertifikatnya masih ada semua tapi habis di download dicari di file kaga ada, kalo pas PeduliLindungi hbs download langsung ada, fyi saya iphone user, help min</td>\n",
       "    </tr>\n",
       "    <tr>\n",
       "      <th>8</th>\n",
       "      <td>Ganti nomor lama ke baru, lama banget yaa miin minimal 14 kerja atau apalah biar setidaknya ga nanya mulu tiap hari</td>\n",
       "    </tr>\n",
       "    <tr>\n",
       "      <th>9</th>\n",
       "      <td>Kartu imunisasi anak dimana ya min? Punya anankku ko hilang? Tiket booster 2 juga hilang min..</td>\n",
       "    </tr>\n",
       "  </tbody>\n",
       "</table>\n",
       "</div>"
      ],
      "text/plain": [
       "                                                                                                                                                                                                                                                                                                                                                                                                                                                                                                                                                                                                      komentar\n",
       "0  Login pake nomor hape yang SUDAH TERDAFTAR di Peduli Lindungi, ga bisa dan diminta register. Lanjut register dengan nomor hape YANG SAMA dan YANG SELAMA INI DIPAKAI untuk masuk ke Peduli Lindungi (ga pernah ganti nomor!), masuk ke Satu Sehat tapi NAMA TIDAK DITEMUKAN, NIK TIDAK DITEMUKAN (kapan saya pernah ganti nama dan ganti NIK padahal udah vaksin 3x toloong!). Logout dan coba login lagi dengan nomor hape yang sama .. diminta register lagi. Ini aplikasi Satu Sehat wajib diinstall ga sih? Wajib/perlu dipake? Kalo ga perlu, aku delete aja deh. Kok ribet mau login/daftar aja ??!!!\n",
       "1  Gabisa login sama sekali😢                                                                                                                                                                                                                                                                                                                                                                                                                                                                                                                                                                                  \n",
       "2  Sertifikat vaksin booster ke 2 ku gk masuk, gimana itu?                                                                                                                                                                                                                                                                                                                                                                                                                                                                                                                                                    \n",
       "3  Ga jelas bgt, malah ilang sertifikat nya boss                                                                                                                                                                                                                                                                                                                                                                                                                                                                                                                                                              \n",
       "4  Plis kalo bikin aplikasi yg bagus ya pak bu, aplikasi masih banyak bug jangan di rilis duluuu👍👍👍👍                                                                                                                                                                                                                                                                                                                                                                                                                                                                                                          \n",
       "5  Saya pengguna IOS. Sertifkat Vaksin booster tercantum dalam aplkasi. Namun, ketika diunduh, hanya Booster 1 yang ada. Kok ga sinkron aplikasi ini? Aplikasi sebelumnya jauh lebih baik. Mohon info. Saya sudah coba unduh berkali-kali, namun tetap booster 1 yanb terlihat. Ada baiknya dilakukan trial and error sebelum launching aplikasi. Terlalu banyak orang yang complain akan hal ini, termasuk saya                                                                                                                                                                                              \n",
       "6  Mau login tulisannya terjadi kesalahan.                                                                                                                                                                                                                                                                                                                                                                                                                                                                                                                                                                    \n",
       "7  Habis updated ke SatuSehat vaksin sertifikatnya masih ada semua tapi habis di download dicari di file kaga ada, kalo pas PeduliLindungi hbs download langsung ada, fyi saya iphone user, help min                                                                                                                                                                                                                                                                                                                                                                                                          \n",
       "8  Ganti nomor lama ke baru, lama banget yaa miin minimal 14 kerja atau apalah biar setidaknya ga nanya mulu tiap hari                                                                                                                                                                                                                                                                                                                                                                                                                                                                                        \n",
       "9  Kartu imunisasi anak dimana ya min? Punya anankku ko hilang? Tiket booster 2 juga hilang min..                                                                                                                                                                                                                                                                                                                                                                                                                                                                                                             "
      ]
     },
     "execution_count": 5,
     "metadata": {},
     "output_type": "execute_result"
    }
   ],
   "source": [
    "data.head(10)"
   ]
  },
  {
   "cell_type": "code",
   "execution_count": 6,
   "id": "139dc943",
   "metadata": {},
   "outputs": [
    {
     "name": "stderr",
     "output_type": "stream",
     "text": [
      "[nltk_data] Downloading package stopwords to\n",
      "[nltk_data]     C:\\Users\\dundindan\\AppData\\Roaming\\nltk_data...\n",
      "[nltk_data]   Package stopwords is already up-to-date!\n",
      "[nltk_data] Downloading package punkt to\n",
      "[nltk_data]     C:\\Users\\dundindan\\AppData\\Roaming\\nltk_data...\n",
      "[nltk_data]   Package punkt is already up-to-date!\n",
      "[nltk_data] Downloading package wordnet to\n",
      "[nltk_data]     C:\\Users\\dundindan\\AppData\\Roaming\\nltk_data...\n",
      "[nltk_data]   Package wordnet is already up-to-date!\n",
      "[nltk_data] Downloading package omw-1.4 to\n",
      "[nltk_data]     C:\\Users\\dundindan\\AppData\\Roaming\\nltk_data...\n",
      "[nltk_data]   Package omw-1.4 is already up-to-date!\n"
     ]
    },
    {
     "data": {
      "text/plain": [
       "True"
      ]
     },
     "execution_count": 6,
     "metadata": {},
     "output_type": "execute_result"
    }
   ],
   "source": [
    "nltk.download('stopwords')\n",
    "nltk.download('punkt')\n",
    "nltk.download('wordnet')\n",
    "nltk.download('omw-1.4')"
   ]
  },
  {
   "cell_type": "code",
   "execution_count": 7,
   "id": "e63d7973",
   "metadata": {},
   "outputs": [
    {
     "data": {
      "text/html": [
       "<div>\n",
       "<style scoped>\n",
       "    .dataframe tbody tr th:only-of-type {\n",
       "        vertical-align: middle;\n",
       "    }\n",
       "\n",
       "    .dataframe tbody tr th {\n",
       "        vertical-align: top;\n",
       "    }\n",
       "\n",
       "    .dataframe thead th {\n",
       "        text-align: right;\n",
       "    }\n",
       "</style>\n",
       "<table border=\"1\" class=\"dataframe\">\n",
       "  <thead>\n",
       "    <tr style=\"text-align: right;\">\n",
       "      <th></th>\n",
       "      <th>komentar</th>\n",
       "      <th>text_prep</th>\n",
       "    </tr>\n",
       "  </thead>\n",
       "  <tbody>\n",
       "    <tr>\n",
       "      <th>0</th>\n",
       "      <td>Login pake nomor hape yang SUDAH TERDAFTAR di Peduli Lindungi, ga bisa dan diminta register. Lanjut register dengan nomor hape YANG SAMA dan YANG SELAMA INI DIPAKAI untuk masuk ke Peduli Lindungi (ga pernah ganti nomor!), masuk ke Satu Sehat tapi NAMA TIDAK DITEMUKAN, NIK TIDAK DITEMUKAN (kapan saya pernah ganti nama dan ganti NIK padahal udah vaksin 3x toloong!). Logout dan coba login lagi dengan nomor hape yang sama .. diminta register lagi. Ini aplikasi Satu Sehat wajib diinstall ga sih? Wajib/perlu dipake? Kalo ga perlu, aku delete aja deh. Kok ribet mau login/daftar aja ??!!!</td>\n",
       "      <td>login pake nomor hape yang sudah terdaftar di peduli lindungi ga bisa dan diminta register lanjut register dengan nomor hape yang sama dan yang selama ini dipakai untuk masuk ke peduli lindungi ga pernah ganti nomor masuk ke satu sehat tapi nama tidak ditemukan nik tidak ditemukan kapan saya pernah ganti nama dan ganti nik padahal udah vaksin toloong logout dan coba login lagi dengan nomor hape yang sama diminta register lagi ini aplikasi satu sehat wajib diinstall ga sih wajib perlu dipake kalo ga perlu aku delete aja deh kok ribet mau login daftar aja</td>\n",
       "    </tr>\n",
       "    <tr>\n",
       "      <th>1</th>\n",
       "      <td>Gabisa login sama sekali😢</td>\n",
       "      <td>gabisa login sama sekali</td>\n",
       "    </tr>\n",
       "    <tr>\n",
       "      <th>2</th>\n",
       "      <td>Sertifikat vaksin booster ke 2 ku gk masuk, gimana itu?</td>\n",
       "      <td>sertifikat vaksin booster ke ku gk masuk gimana itu</td>\n",
       "    </tr>\n",
       "    <tr>\n",
       "      <th>3</th>\n",
       "      <td>Ga jelas bgt, malah ilang sertifikat nya boss</td>\n",
       "      <td>ga jelas bgt malah ilang sertifikat nya boss</td>\n",
       "    </tr>\n",
       "    <tr>\n",
       "      <th>4</th>\n",
       "      <td>Plis kalo bikin aplikasi yg bagus ya pak bu, aplikasi masih banyak bug jangan di rilis duluuu👍👍👍👍</td>\n",
       "      <td>plis kalo bikin aplikasi yg bagus ya pak bu aplikasi masih banyak bug jangan di rilis duluuu</td>\n",
       "    </tr>\n",
       "    <tr>\n",
       "      <th>5</th>\n",
       "      <td>Saya pengguna IOS. Sertifkat Vaksin booster tercantum dalam aplkasi. Namun, ketika diunduh, hanya Booster 1 yang ada. Kok ga sinkron aplikasi ini? Aplikasi sebelumnya jauh lebih baik. Mohon info. Saya sudah coba unduh berkali-kali, namun tetap booster 1 yanb terlihat. Ada baiknya dilakukan trial and error sebelum launching aplikasi. Terlalu banyak orang yang complain akan hal ini, termasuk saya</td>\n",
       "      <td>saya pengguna ios sertifkat vaksin booster tercantum dalam aplkasi namun ketika diunduh hanya booster yang ada kok ga sinkron aplikasi ini aplikasi sebelumnya jauh lebih baik mohon info saya sudah coba unduh berkali kali namun tetap booster yanb terlihat ada baiknya dilakukan trial and error sebelum launching aplikasi terlalu banyak orang yang complain akan hal ini termasuk saya</td>\n",
       "    </tr>\n",
       "    <tr>\n",
       "      <th>6</th>\n",
       "      <td>Mau login tulisannya terjadi kesalahan.</td>\n",
       "      <td>mau login tulisannya terjadi kesalahan</td>\n",
       "    </tr>\n",
       "    <tr>\n",
       "      <th>7</th>\n",
       "      <td>Habis updated ke SatuSehat vaksin sertifikatnya masih ada semua tapi habis di download dicari di file kaga ada, kalo pas PeduliLindungi hbs download langsung ada, fyi saya iphone user, help min</td>\n",
       "      <td>habis updated ke satusehat vaksin sertifikatnya masih ada semua tapi habis di download dicari di file kaga ada kalo pas pedulilindungi hbs download langsung ada fyi saya iphone user help min</td>\n",
       "    </tr>\n",
       "    <tr>\n",
       "      <th>8</th>\n",
       "      <td>Ganti nomor lama ke baru, lama banget yaa miin minimal 14 kerja atau apalah biar setidaknya ga nanya mulu tiap hari</td>\n",
       "      <td>ganti nomor lama ke baru lama banget yaa miin minimal kerja atau apalah biar setidaknya ga nanya mulu tiap hari</td>\n",
       "    </tr>\n",
       "    <tr>\n",
       "      <th>9</th>\n",
       "      <td>Kartu imunisasi anak dimana ya min? Punya anankku ko hilang? Tiket booster 2 juga hilang min..</td>\n",
       "      <td>kartu imunisasi anak dimana ya min punya anankku ko hilang tiket booster juga hilang min</td>\n",
       "    </tr>\n",
       "  </tbody>\n",
       "</table>\n",
       "</div>"
      ],
      "text/plain": [
       "                                                                                                                                                                                                                                                                                                                                                                                                                                                                                                                                                                                                      komentar  \\\n",
       "0  Login pake nomor hape yang SUDAH TERDAFTAR di Peduli Lindungi, ga bisa dan diminta register. Lanjut register dengan nomor hape YANG SAMA dan YANG SELAMA INI DIPAKAI untuk masuk ke Peduli Lindungi (ga pernah ganti nomor!), masuk ke Satu Sehat tapi NAMA TIDAK DITEMUKAN, NIK TIDAK DITEMUKAN (kapan saya pernah ganti nama dan ganti NIK padahal udah vaksin 3x toloong!). Logout dan coba login lagi dengan nomor hape yang sama .. diminta register lagi. Ini aplikasi Satu Sehat wajib diinstall ga sih? Wajib/perlu dipake? Kalo ga perlu, aku delete aja deh. Kok ribet mau login/daftar aja ??!!!   \n",
       "1  Gabisa login sama sekali😢                                                                                                                                                                                                                                                                                                                                                                                                                                                                                                                                                                                     \n",
       "2  Sertifikat vaksin booster ke 2 ku gk masuk, gimana itu?                                                                                                                                                                                                                                                                                                                                                                                                                                                                                                                                                       \n",
       "3  Ga jelas bgt, malah ilang sertifikat nya boss                                                                                                                                                                                                                                                                                                                                                                                                                                                                                                                                                                 \n",
       "4  Plis kalo bikin aplikasi yg bagus ya pak bu, aplikasi masih banyak bug jangan di rilis duluuu👍👍👍👍                                                                                                                                                                                                                                                                                                                                                                                                                                                                                                             \n",
       "5  Saya pengguna IOS. Sertifkat Vaksin booster tercantum dalam aplkasi. Namun, ketika diunduh, hanya Booster 1 yang ada. Kok ga sinkron aplikasi ini? Aplikasi sebelumnya jauh lebih baik. Mohon info. Saya sudah coba unduh berkali-kali, namun tetap booster 1 yanb terlihat. Ada baiknya dilakukan trial and error sebelum launching aplikasi. Terlalu banyak orang yang complain akan hal ini, termasuk saya                                                                                                                                                                                                 \n",
       "6  Mau login tulisannya terjadi kesalahan.                                                                                                                                                                                                                                                                                                                                                                                                                                                                                                                                                                       \n",
       "7  Habis updated ke SatuSehat vaksin sertifikatnya masih ada semua tapi habis di download dicari di file kaga ada, kalo pas PeduliLindungi hbs download langsung ada, fyi saya iphone user, help min                                                                                                                                                                                                                                                                                                                                                                                                             \n",
       "8  Ganti nomor lama ke baru, lama banget yaa miin minimal 14 kerja atau apalah biar setidaknya ga nanya mulu tiap hari                                                                                                                                                                                                                                                                                                                                                                                                                                                                                           \n",
       "9  Kartu imunisasi anak dimana ya min? Punya anankku ko hilang? Tiket booster 2 juga hilang min..                                                                                                                                                                                                                                                                                                                                                                                                                                                                                                                \n",
       "\n",
       "                                                                                                                                                                                                                                                                                                                                                                                                                                                                                                                                                                          text_prep  \n",
       "0  login pake nomor hape yang sudah terdaftar di peduli lindungi ga bisa dan diminta register lanjut register dengan nomor hape yang sama dan yang selama ini dipakai untuk masuk ke peduli lindungi ga pernah ganti nomor masuk ke satu sehat tapi nama tidak ditemukan nik tidak ditemukan kapan saya pernah ganti nama dan ganti nik padahal udah vaksin toloong logout dan coba login lagi dengan nomor hape yang sama diminta register lagi ini aplikasi satu sehat wajib diinstall ga sih wajib perlu dipake kalo ga perlu aku delete aja deh kok ribet mau login daftar aja   \n",
       "1  gabisa login sama sekali                                                                                                                                                                                                                                                                                                                                                                                                                                                                                                                                                          \n",
       "2  sertifikat vaksin booster ke ku gk masuk gimana itu                                                                                                                                                                                                                                                                                                                                                                                                                                                                                                                               \n",
       "3  ga jelas bgt malah ilang sertifikat nya boss                                                                                                                                                                                                                                                                                                                                                                                                                                                                                                                                      \n",
       "4  plis kalo bikin aplikasi yg bagus ya pak bu aplikasi masih banyak bug jangan di rilis duluuu                                                                                                                                                                                                                                                                                                                                                                                                                                                                                      \n",
       "5  saya pengguna ios sertifkat vaksin booster tercantum dalam aplkasi namun ketika diunduh hanya booster yang ada kok ga sinkron aplikasi ini aplikasi sebelumnya jauh lebih baik mohon info saya sudah coba unduh berkali kali namun tetap booster yanb terlihat ada baiknya dilakukan trial and error sebelum launching aplikasi terlalu banyak orang yang complain akan hal ini termasuk saya                                                                                                                                                                                     \n",
       "6  mau login tulisannya terjadi kesalahan                                                                                                                                                                                                                                                                                                                                                                                                                                                                                                                                            \n",
       "7  habis updated ke satusehat vaksin sertifikatnya masih ada semua tapi habis di download dicari di file kaga ada kalo pas pedulilindungi hbs download langsung ada fyi saya iphone user help min                                                                                                                                                                                                                                                                                                                                                                                    \n",
       "8  ganti nomor lama ke baru lama banget yaa miin minimal kerja atau apalah biar setidaknya ga nanya mulu tiap hari                                                                                                                                                                                                                                                                                                                                                                                                                                                                   \n",
       "9  kartu imunisasi anak dimana ya min punya anankku ko hilang tiket booster juga hilang min                                                                                                                                                                                                                                                                                                                                                                                                                                                                                          "
      ]
     },
     "execution_count": 7,
     "metadata": {},
     "output_type": "execute_result"
    }
   ],
   "source": [
    "#casefolding\n",
    "def text_prep(teks):\n",
    "    teks = str(teks).lower()\n",
    "    teks = re.sub('@[\\w]+','',str(teks))\n",
    "    teks = re.sub('[^a-zA-Z]','  ', str(teks))\n",
    "    teks = re.sub(r\"\\b[a-zA-Z]\\b\", \"\", teks)\n",
    "    teks = re.sub('\\s+',' ',teks)\n",
    "    return teks\n",
    "data['text_prep'] = data['komentar'].apply(text_prep)\n",
    "data.head(10)"
   ]
  },
  {
   "cell_type": "code",
   "execution_count": 8,
   "id": "c51eed1f",
   "metadata": {},
   "outputs": [
    {
     "data": {
      "text/html": [
       "<div>\n",
       "<style scoped>\n",
       "    .dataframe tbody tr th:only-of-type {\n",
       "        vertical-align: middle;\n",
       "    }\n",
       "\n",
       "    .dataframe tbody tr th {\n",
       "        vertical-align: top;\n",
       "    }\n",
       "\n",
       "    .dataframe thead th {\n",
       "        text-align: right;\n",
       "    }\n",
       "</style>\n",
       "<table border=\"1\" class=\"dataframe\">\n",
       "  <thead>\n",
       "    <tr style=\"text-align: right;\">\n",
       "      <th></th>\n",
       "      <th>komentar</th>\n",
       "      <th>text_prep</th>\n",
       "    </tr>\n",
       "  </thead>\n",
       "  <tbody>\n",
       "    <tr>\n",
       "      <th>0</th>\n",
       "      <td>Login pake nomor hape yang SUDAH TERDAFTAR di Peduli Lindungi, ga bisa dan diminta register. Lanjut register dengan nomor hape YANG SAMA dan YANG SELAMA INI DIPAKAI untuk masuk ke Peduli Lindungi (ga pernah ganti nomor!), masuk ke Satu Sehat tapi NAMA TIDAK DITEMUKAN, NIK TIDAK DITEMUKAN (kapan saya pernah ganti nama dan ganti NIK padahal udah vaksin 3x toloong!). Logout dan coba login lagi dengan nomor hape yang sama .. diminta register lagi. Ini aplikasi Satu Sehat wajib diinstall ga sih? Wajib/perlu dipake? Kalo ga perlu, aku delete aja deh. Kok ribet mau login/daftar aja ??!!!</td>\n",
       "      <td>[login, pake, nomor, hape, yang, sudah, terdaftar, di, peduli, lindungi, ga, bisa, dan, diminta, register, lanjut, register, dengan, nomor, hape, yang, sama, dan, yang, selama, ini, dipakai, untuk, masuk, ke, peduli, lindungi, ga, pernah, ganti, nomor, masuk, ke, satu, sehat, tapi, nama, tidak, ditemukan, nik, tidak, ditemukan, kapan, saya, pernah, ganti, nama, dan, ganti, nik, padahal, udah, vaksin, toloong, logout, dan, coba, login, lagi, dengan, nomor, hape, yang, sama, diminta, register, lagi, ini, aplikasi, satu, sehat, wajib, diinstall, ga, sih, wajib, perlu, dipake, kalo, ga, perlu, aku, delete, aja, deh, kok, ribet, mau, login, daftar, aja]</td>\n",
       "    </tr>\n",
       "    <tr>\n",
       "      <th>1</th>\n",
       "      <td>Gabisa login sama sekali😢</td>\n",
       "      <td>[gabisa, login, sama, sekali]</td>\n",
       "    </tr>\n",
       "    <tr>\n",
       "      <th>2</th>\n",
       "      <td>Sertifikat vaksin booster ke 2 ku gk masuk, gimana itu?</td>\n",
       "      <td>[sertifikat, vaksin, booster, ke, ku, gk, masuk, gimana, itu]</td>\n",
       "    </tr>\n",
       "    <tr>\n",
       "      <th>3</th>\n",
       "      <td>Ga jelas bgt, malah ilang sertifikat nya boss</td>\n",
       "      <td>[ga, jelas, bgt, malah, ilang, sertifikat, nya, boss]</td>\n",
       "    </tr>\n",
       "    <tr>\n",
       "      <th>4</th>\n",
       "      <td>Plis kalo bikin aplikasi yg bagus ya pak bu, aplikasi masih banyak bug jangan di rilis duluuu👍👍👍👍</td>\n",
       "      <td>[plis, kalo, bikin, aplikasi, yg, bagus, ya, pak, bu, aplikasi, masih, banyak, bug, jangan, di, rilis, duluuu]</td>\n",
       "    </tr>\n",
       "    <tr>\n",
       "      <th>5</th>\n",
       "      <td>Saya pengguna IOS. Sertifkat Vaksin booster tercantum dalam aplkasi. Namun, ketika diunduh, hanya Booster 1 yang ada. Kok ga sinkron aplikasi ini? Aplikasi sebelumnya jauh lebih baik. Mohon info. Saya sudah coba unduh berkali-kali, namun tetap booster 1 yanb terlihat. Ada baiknya dilakukan trial and error sebelum launching aplikasi. Terlalu banyak orang yang complain akan hal ini, termasuk saya</td>\n",
       "      <td>[saya, pengguna, ios, sertifkat, vaksin, booster, tercantum, dalam, aplkasi, namun, ketika, diunduh, hanya, booster, yang, ada, kok, ga, sinkron, aplikasi, ini, aplikasi, sebelumnya, jauh, lebih, baik, mohon, info, saya, sudah, coba, unduh, berkali, kali, namun, tetap, booster, yanb, terlihat, ada, baiknya, dilakukan, trial, and, error, sebelum, launching, aplikasi, terlalu, banyak, orang, yang, complain, akan, hal, ini, termasuk, saya]</td>\n",
       "    </tr>\n",
       "    <tr>\n",
       "      <th>6</th>\n",
       "      <td>Mau login tulisannya terjadi kesalahan.</td>\n",
       "      <td>[mau, login, tulisannya, terjadi, kesalahan]</td>\n",
       "    </tr>\n",
       "    <tr>\n",
       "      <th>7</th>\n",
       "      <td>Habis updated ke SatuSehat vaksin sertifikatnya masih ada semua tapi habis di download dicari di file kaga ada, kalo pas PeduliLindungi hbs download langsung ada, fyi saya iphone user, help min</td>\n",
       "      <td>[habis, updated, ke, satusehat, vaksin, sertifikatnya, masih, ada, semua, tapi, habis, di, download, dicari, di, file, kaga, ada, kalo, pas, pedulilindungi, hbs, download, langsung, ada, fyi, saya, iphone, user, help, min]</td>\n",
       "    </tr>\n",
       "    <tr>\n",
       "      <th>8</th>\n",
       "      <td>Ganti nomor lama ke baru, lama banget yaa miin minimal 14 kerja atau apalah biar setidaknya ga nanya mulu tiap hari</td>\n",
       "      <td>[ganti, nomor, lama, ke, baru, lama, banget, yaa, miin, minimal, kerja, atau, apalah, biar, setidaknya, ga, nanya, mulu, tiap, hari]</td>\n",
       "    </tr>\n",
       "    <tr>\n",
       "      <th>9</th>\n",
       "      <td>Kartu imunisasi anak dimana ya min? Punya anankku ko hilang? Tiket booster 2 juga hilang min..</td>\n",
       "      <td>[kartu, imunisasi, anak, dimana, ya, min, punya, anankku, ko, hilang, tiket, booster, juga, hilang, min]</td>\n",
       "    </tr>\n",
       "  </tbody>\n",
       "</table>\n",
       "</div>"
      ],
      "text/plain": [
       "                                                                                                                                                                                                                                                                                                                                                                                                                                                                                                                                                                                                      komentar  \\\n",
       "0  Login pake nomor hape yang SUDAH TERDAFTAR di Peduli Lindungi, ga bisa dan diminta register. Lanjut register dengan nomor hape YANG SAMA dan YANG SELAMA INI DIPAKAI untuk masuk ke Peduli Lindungi (ga pernah ganti nomor!), masuk ke Satu Sehat tapi NAMA TIDAK DITEMUKAN, NIK TIDAK DITEMUKAN (kapan saya pernah ganti nama dan ganti NIK padahal udah vaksin 3x toloong!). Logout dan coba login lagi dengan nomor hape yang sama .. diminta register lagi. Ini aplikasi Satu Sehat wajib diinstall ga sih? Wajib/perlu dipake? Kalo ga perlu, aku delete aja deh. Kok ribet mau login/daftar aja ??!!!   \n",
       "1  Gabisa login sama sekali😢                                                                                                                                                                                                                                                                                                                                                                                                                                                                                                                                                                                     \n",
       "2  Sertifikat vaksin booster ke 2 ku gk masuk, gimana itu?                                                                                                                                                                                                                                                                                                                                                                                                                                                                                                                                                       \n",
       "3  Ga jelas bgt, malah ilang sertifikat nya boss                                                                                                                                                                                                                                                                                                                                                                                                                                                                                                                                                                 \n",
       "4  Plis kalo bikin aplikasi yg bagus ya pak bu, aplikasi masih banyak bug jangan di rilis duluuu👍👍👍👍                                                                                                                                                                                                                                                                                                                                                                                                                                                                                                             \n",
       "5  Saya pengguna IOS. Sertifkat Vaksin booster tercantum dalam aplkasi. Namun, ketika diunduh, hanya Booster 1 yang ada. Kok ga sinkron aplikasi ini? Aplikasi sebelumnya jauh lebih baik. Mohon info. Saya sudah coba unduh berkali-kali, namun tetap booster 1 yanb terlihat. Ada baiknya dilakukan trial and error sebelum launching aplikasi. Terlalu banyak orang yang complain akan hal ini, termasuk saya                                                                                                                                                                                                 \n",
       "6  Mau login tulisannya terjadi kesalahan.                                                                                                                                                                                                                                                                                                                                                                                                                                                                                                                                                                       \n",
       "7  Habis updated ke SatuSehat vaksin sertifikatnya masih ada semua tapi habis di download dicari di file kaga ada, kalo pas PeduliLindungi hbs download langsung ada, fyi saya iphone user, help min                                                                                                                                                                                                                                                                                                                                                                                                             \n",
       "8  Ganti nomor lama ke baru, lama banget yaa miin minimal 14 kerja atau apalah biar setidaknya ga nanya mulu tiap hari                                                                                                                                                                                                                                                                                                                                                                                                                                                                                           \n",
       "9  Kartu imunisasi anak dimana ya min? Punya anankku ko hilang? Tiket booster 2 juga hilang min..                                                                                                                                                                                                                                                                                                                                                                                                                                                                                                                \n",
       "\n",
       "                                                                                                                                                                                                                                                                                                                                                                                                                                                                                                                                                                                                                                                                          text_prep  \n",
       "0  [login, pake, nomor, hape, yang, sudah, terdaftar, di, peduli, lindungi, ga, bisa, dan, diminta, register, lanjut, register, dengan, nomor, hape, yang, sama, dan, yang, selama, ini, dipakai, untuk, masuk, ke, peduli, lindungi, ga, pernah, ganti, nomor, masuk, ke, satu, sehat, tapi, nama, tidak, ditemukan, nik, tidak, ditemukan, kapan, saya, pernah, ganti, nama, dan, ganti, nik, padahal, udah, vaksin, toloong, logout, dan, coba, login, lagi, dengan, nomor, hape, yang, sama, diminta, register, lagi, ini, aplikasi, satu, sehat, wajib, diinstall, ga, sih, wajib, perlu, dipake, kalo, ga, perlu, aku, delete, aja, deh, kok, ribet, mau, login, daftar, aja]  \n",
       "1  [gabisa, login, sama, sekali]                                                                                                                                                                                                                                                                                                                                                                                                                                                                                                                                                                                                                                                     \n",
       "2  [sertifikat, vaksin, booster, ke, ku, gk, masuk, gimana, itu]                                                                                                                                                                                                                                                                                                                                                                                                                                                                                                                                                                                                                     \n",
       "3  [ga, jelas, bgt, malah, ilang, sertifikat, nya, boss]                                                                                                                                                                                                                                                                                                                                                                                                                                                                                                                                                                                                                             \n",
       "4  [plis, kalo, bikin, aplikasi, yg, bagus, ya, pak, bu, aplikasi, masih, banyak, bug, jangan, di, rilis, duluuu]                                                                                                                                                                                                                                                                                                                                                                                                                                                                                                                                                                    \n",
       "5  [saya, pengguna, ios, sertifkat, vaksin, booster, tercantum, dalam, aplkasi, namun, ketika, diunduh, hanya, booster, yang, ada, kok, ga, sinkron, aplikasi, ini, aplikasi, sebelumnya, jauh, lebih, baik, mohon, info, saya, sudah, coba, unduh, berkali, kali, namun, tetap, booster, yanb, terlihat, ada, baiknya, dilakukan, trial, and, error, sebelum, launching, aplikasi, terlalu, banyak, orang, yang, complain, akan, hal, ini, termasuk, saya]                                                                                                                                                                                                                          \n",
       "6  [mau, login, tulisannya, terjadi, kesalahan]                                                                                                                                                                                                                                                                                                                                                                                                                                                                                                                                                                                                                                      \n",
       "7  [habis, updated, ke, satusehat, vaksin, sertifikatnya, masih, ada, semua, tapi, habis, di, download, dicari, di, file, kaga, ada, kalo, pas, pedulilindungi, hbs, download, langsung, ada, fyi, saya, iphone, user, help, min]                                                                                                                                                                                                                                                                                                                                                                                                                                                    \n",
       "8  [ganti, nomor, lama, ke, baru, lama, banget, yaa, miin, minimal, kerja, atau, apalah, biar, setidaknya, ga, nanya, mulu, tiap, hari]                                                                                                                                                                                                                                                                                                                                                                                                                                                                                                                                              \n",
       "9  [kartu, imunisasi, anak, dimana, ya, min, punya, anankku, ko, hilang, tiket, booster, juga, hilang, min]                                                                                                                                                                                                                                                                                                                                                                                                                                                                                                                                                                          "
      ]
     },
     "execution_count": 8,
     "metadata": {},
     "output_type": "execute_result"
    }
   ],
   "source": [
    "#tokenizing\n",
    "for i, text in enumerate(data['text_prep']):\n",
    "    data['text_prep'][i] = data['text_prep'][i].replace(\"'\", \"\")\\\n",
    "                                            .replace(',','').replace(']','').replace('[','')\n",
    "    list_words=[]\n",
    "    for word in data['text_prep'][i].split():\n",
    "        list_words.append(word)\n",
    "        \n",
    "    data['text_prep'][i] = list_words   \n",
    "    \n",
    "data.head(10)"
   ]
  },
  {
   "cell_type": "code",
   "execution_count": 9,
   "id": "88fdadcc",
   "metadata": {},
   "outputs": [
    {
     "data": {
      "text/html": [
       "<div>\n",
       "<style scoped>\n",
       "    .dataframe tbody tr th:only-of-type {\n",
       "        vertical-align: middle;\n",
       "    }\n",
       "\n",
       "    .dataframe tbody tr th {\n",
       "        vertical-align: top;\n",
       "    }\n",
       "\n",
       "    .dataframe thead th {\n",
       "        text-align: right;\n",
       "    }\n",
       "</style>\n",
       "<table border=\"1\" class=\"dataframe\">\n",
       "  <thead>\n",
       "    <tr style=\"text-align: right;\">\n",
       "      <th></th>\n",
       "      <th>komentar</th>\n",
       "      <th>text_prep</th>\n",
       "    </tr>\n",
       "  </thead>\n",
       "  <tbody>\n",
       "    <tr>\n",
       "      <th>0</th>\n",
       "      <td>Login pake nomor hape yang SUDAH TERDAFTAR di Peduli Lindungi, ga bisa dan diminta register. Lanjut register dengan nomor hape YANG SAMA dan YANG SELAMA INI DIPAKAI untuk masuk ke Peduli Lindungi (ga pernah ganti nomor!), masuk ke Satu Sehat tapi NAMA TIDAK DITEMUKAN, NIK TIDAK DITEMUKAN (kapan saya pernah ganti nama dan ganti NIK padahal udah vaksin 3x toloong!). Logout dan coba login lagi dengan nomor hape yang sama .. diminta register lagi. Ini aplikasi Satu Sehat wajib diinstall ga sih? Wajib/perlu dipake? Kalo ga perlu, aku delete aja deh. Kok ribet mau login/daftar aja ??!!!</td>\n",
       "      <td>[login, pakai, nomor, hape, yang, sudah, terdaftar, di, peduli, lindungi, tidak, bisa, dan, diminta, register, lanjut, register, dengan, nomor, hape, yang, sama, dan, yang, selama, ini, dipakai, untuk, masuk, ke, peduli, lindungi, tidak, pernah, ganti, nomor, masuk, ke, satu, sehat, tetapi, nama, tidak, ditemukan, nik, tidak, ditemukan, kapan, saya, pernah, ganti, nama, dan, ganti, nik, padahal, sudah, vaksin,  tolong, logout, dan, coba, login, lagi, dengan, nomor, hape, yang, sama, diminta, register, lagi, ini, aplikasi, satu, sehat, wajib, diinstall, tidak, sih, wajib, perlu, dipake, kalau, tidak, perlu, saya, delete, saja, deh, kok, ribet, mau, login, daftar, saja]</td>\n",
       "    </tr>\n",
       "    <tr>\n",
       "      <th>1</th>\n",
       "      <td>Gabisa login sama sekali😢</td>\n",
       "      <td>[gabisa, login, sama, sekali]</td>\n",
       "    </tr>\n",
       "    <tr>\n",
       "      <th>2</th>\n",
       "      <td>Sertifikat vaksin booster ke 2 ku gk masuk, gimana itu?</td>\n",
       "      <td>[sertifikat, vaksin, booster, ke, ku, tidak, masuk, bagaimana, itu]</td>\n",
       "    </tr>\n",
       "    <tr>\n",
       "      <th>3</th>\n",
       "      <td>Ga jelas bgt, malah ilang sertifikat nya boss</td>\n",
       "      <td>[tidak, jelas, banget, malah,  hilang, sertifikat, nya, boss]</td>\n",
       "    </tr>\n",
       "    <tr>\n",
       "      <th>4</th>\n",
       "      <td>Plis kalo bikin aplikasi yg bagus ya pak bu, aplikasi masih banyak bug jangan di rilis duluuu👍👍👍👍</td>\n",
       "      <td>[plis, kalau, bikin, aplikasi, yang, bagus, ya, pak, bu, aplikasi, masih, banyak, bug, jangan, di, rilis,  dulu]</td>\n",
       "    </tr>\n",
       "    <tr>\n",
       "      <th>5</th>\n",
       "      <td>Saya pengguna IOS. Sertifkat Vaksin booster tercantum dalam aplkasi. Namun, ketika diunduh, hanya Booster 1 yang ada. Kok ga sinkron aplikasi ini? Aplikasi sebelumnya jauh lebih baik. Mohon info. Saya sudah coba unduh berkali-kali, namun tetap booster 1 yanb terlihat. Ada baiknya dilakukan trial and error sebelum launching aplikasi. Terlalu banyak orang yang complain akan hal ini, termasuk saya</td>\n",
       "      <td>[saya, pengguna, ios, sertifkat, vaksin, booster, tercantum, dalam, aplkasi, namun, ketika, diunduh, hanya, booster, yang, ada, kok, tidak, sinkron, aplikasi, ini, aplikasi, sebelumnya, jauh, lebih, baik, mohon, info, saya, sudah, coba, unduh, berkali, kali, namun, tetap, booster, yanb, terlihat, ada, baiknya, dilakukan, trial, and, error, sebelum, launching, aplikasi, terlalu, banyak, orang, yang, complain, akan, hal, ini, termasuk, saya]</td>\n",
       "    </tr>\n",
       "    <tr>\n",
       "      <th>6</th>\n",
       "      <td>Mau login tulisannya terjadi kesalahan.</td>\n",
       "      <td>[mau, login, tulisannya, terjadi, kesalahan]</td>\n",
       "    </tr>\n",
       "    <tr>\n",
       "      <th>7</th>\n",
       "      <td>Habis updated ke SatuSehat vaksin sertifikatnya masih ada semua tapi habis di download dicari di file kaga ada, kalo pas PeduliLindungi hbs download langsung ada, fyi saya iphone user, help min</td>\n",
       "      <td>[habis, updated, ke, satusehat, vaksin, sertifikatnya, masih, ada, semua, tetapi, habis, di, download, dicari, di, file,  tidak, ada, kalau, pas, pedulilindungi,  habis, download, langsung, ada, fyi, saya, iphone, user, help, admin]</td>\n",
       "    </tr>\n",
       "    <tr>\n",
       "      <th>8</th>\n",
       "      <td>Ganti nomor lama ke baru, lama banget yaa miin minimal 14 kerja atau apalah biar setidaknya ga nanya mulu tiap hari</td>\n",
       "      <td>[ganti, nomor, lama, ke, baru, lama, banget, ya,  admin, minimal, kerja, atau, apalah, biar, setidaknya, tidak, tanya, mulu, tiap, hari]</td>\n",
       "    </tr>\n",
       "    <tr>\n",
       "      <th>9</th>\n",
       "      <td>Kartu imunisasi anak dimana ya min? Punya anankku ko hilang? Tiket booster 2 juga hilang min..</td>\n",
       "      <td>[kartu, imunisasi, anak, dimana, ya, admin, punya,  anak, ko, hilang, tiket, booster, juga, hilang, admin]</td>\n",
       "    </tr>\n",
       "  </tbody>\n",
       "</table>\n",
       "</div>"
      ],
      "text/plain": [
       "                                                                                                                                                                                                                                                                                                                                                                                                                                                                                                                                                                                                      komentar  \\\n",
       "0  Login pake nomor hape yang SUDAH TERDAFTAR di Peduli Lindungi, ga bisa dan diminta register. Lanjut register dengan nomor hape YANG SAMA dan YANG SELAMA INI DIPAKAI untuk masuk ke Peduli Lindungi (ga pernah ganti nomor!), masuk ke Satu Sehat tapi NAMA TIDAK DITEMUKAN, NIK TIDAK DITEMUKAN (kapan saya pernah ganti nama dan ganti NIK padahal udah vaksin 3x toloong!). Logout dan coba login lagi dengan nomor hape yang sama .. diminta register lagi. Ini aplikasi Satu Sehat wajib diinstall ga sih? Wajib/perlu dipake? Kalo ga perlu, aku delete aja deh. Kok ribet mau login/daftar aja ??!!!   \n",
       "1  Gabisa login sama sekali😢                                                                                                                                                                                                                                                                                                                                                                                                                                                                                                                                                                                     \n",
       "2  Sertifikat vaksin booster ke 2 ku gk masuk, gimana itu?                                                                                                                                                                                                                                                                                                                                                                                                                                                                                                                                                       \n",
       "3  Ga jelas bgt, malah ilang sertifikat nya boss                                                                                                                                                                                                                                                                                                                                                                                                                                                                                                                                                                 \n",
       "4  Plis kalo bikin aplikasi yg bagus ya pak bu, aplikasi masih banyak bug jangan di rilis duluuu👍👍👍👍                                                                                                                                                                                                                                                                                                                                                                                                                                                                                                             \n",
       "5  Saya pengguna IOS. Sertifkat Vaksin booster tercantum dalam aplkasi. Namun, ketika diunduh, hanya Booster 1 yang ada. Kok ga sinkron aplikasi ini? Aplikasi sebelumnya jauh lebih baik. Mohon info. Saya sudah coba unduh berkali-kali, namun tetap booster 1 yanb terlihat. Ada baiknya dilakukan trial and error sebelum launching aplikasi. Terlalu banyak orang yang complain akan hal ini, termasuk saya                                                                                                                                                                                                 \n",
       "6  Mau login tulisannya terjadi kesalahan.                                                                                                                                                                                                                                                                                                                                                                                                                                                                                                                                                                       \n",
       "7  Habis updated ke SatuSehat vaksin sertifikatnya masih ada semua tapi habis di download dicari di file kaga ada, kalo pas PeduliLindungi hbs download langsung ada, fyi saya iphone user, help min                                                                                                                                                                                                                                                                                                                                                                                                             \n",
       "8  Ganti nomor lama ke baru, lama banget yaa miin minimal 14 kerja atau apalah biar setidaknya ga nanya mulu tiap hari                                                                                                                                                                                                                                                                                                                                                                                                                                                                                           \n",
       "9  Kartu imunisasi anak dimana ya min? Punya anankku ko hilang? Tiket booster 2 juga hilang min..                                                                                                                                                                                                                                                                                                                                                                                                                                                                                                                \n",
       "\n",
       "                                                                                                                                                                                                                                                                                                                                                                                                                                                                                                                                                                                                                                                                                              text_prep  \n",
       "0  [login, pakai, nomor, hape, yang, sudah, terdaftar, di, peduli, lindungi, tidak, bisa, dan, diminta, register, lanjut, register, dengan, nomor, hape, yang, sama, dan, yang, selama, ini, dipakai, untuk, masuk, ke, peduli, lindungi, tidak, pernah, ganti, nomor, masuk, ke, satu, sehat, tetapi, nama, tidak, ditemukan, nik, tidak, ditemukan, kapan, saya, pernah, ganti, nama, dan, ganti, nik, padahal, sudah, vaksin,  tolong, logout, dan, coba, login, lagi, dengan, nomor, hape, yang, sama, diminta, register, lagi, ini, aplikasi, satu, sehat, wajib, diinstall, tidak, sih, wajib, perlu, dipake, kalau, tidak, perlu, saya, delete, saja, deh, kok, ribet, mau, login, daftar, saja]  \n",
       "1  [gabisa, login, sama, sekali]                                                                                                                                                                                                                                                                                                                                                                                                                                                                                                                                                                                                                                                                         \n",
       "2  [sertifikat, vaksin, booster, ke, ku, tidak, masuk, bagaimana, itu]                                                                                                                                                                                                                                                                                                                                                                                                                                                                                                                                                                                                                                   \n",
       "3  [tidak, jelas, banget, malah,  hilang, sertifikat, nya, boss]                                                                                                                                                                                                                                                                                                                                                                                                                                                                                                                                                                                                                                         \n",
       "4  [plis, kalau, bikin, aplikasi, yang, bagus, ya, pak, bu, aplikasi, masih, banyak, bug, jangan, di, rilis,  dulu]                                                                                                                                                                                                                                                                                                                                                                                                                                                                                                                                                                                      \n",
       "5  [saya, pengguna, ios, sertifkat, vaksin, booster, tercantum, dalam, aplkasi, namun, ketika, diunduh, hanya, booster, yang, ada, kok, tidak, sinkron, aplikasi, ini, aplikasi, sebelumnya, jauh, lebih, baik, mohon, info, saya, sudah, coba, unduh, berkali, kali, namun, tetap, booster, yanb, terlihat, ada, baiknya, dilakukan, trial, and, error, sebelum, launching, aplikasi, terlalu, banyak, orang, yang, complain, akan, hal, ini, termasuk, saya]                                                                                                                                                                                                                                           \n",
       "6  [mau, login, tulisannya, terjadi, kesalahan]                                                                                                                                                                                                                                                                                                                                                                                                                                                                                                                                                                                                                                                          \n",
       "7  [habis, updated, ke, satusehat, vaksin, sertifikatnya, masih, ada, semua, tetapi, habis, di, download, dicari, di, file,  tidak, ada, kalau, pas, pedulilindungi,  habis, download, langsung, ada, fyi, saya, iphone, user, help, admin]                                                                                                                                                                                                                                                                                                                                                                                                                                                              \n",
       "8  [ganti, nomor, lama, ke, baru, lama, banget, ya,  admin, minimal, kerja, atau, apalah, biar, setidaknya, tidak, tanya, mulu, tiap, hari]                                                                                                                                                                                                                                                                                                                                                                                                                                                                                                                                                              \n",
       "9  [kartu, imunisasi, anak, dimana, ya, admin, punya,  anak, ko, hilang, tiket, booster, juga, hilang, admin]                                                                                                                                                                                                                                                                                                                                                                                                                                                                                                                                                                                            "
      ]
     },
     "execution_count": 9,
     "metadata": {},
     "output_type": "execute_result"
    }
   ],
   "source": [
    "#normalize\n",
    "normalizad_word = pd.read_excel(\"kamus/normalisasi.xlsx\")\n",
    "normalizad_word_dict = {}\n",
    "for index, row in normalizad_word.iterrows():\n",
    "    if row[0] not in normalizad_word_dict:\n",
    "        normalizad_word_dict[row[0]] = row[1]\n",
    "        \n",
    "def normalized_term(document):\n",
    "    return [normalizad_word_dict[term] if term in normalizad_word_dict else term for term in document]\n",
    "data['text_prep'] = data['text_prep'].apply(normalized_term)\n",
    "data.head(10)"
   ]
  },
  {
   "cell_type": "code",
   "execution_count": 10,
   "id": "d51907da",
   "metadata": {},
   "outputs": [],
   "source": [
    "# Loads lexicon positive and negative data\n",
    "lexicon_positive = dict()\n",
    "import csv\n",
    "with open('kamus/lexicon_positif.csv', 'r') as csvfile:\n",
    "    reader = csv.reader(csvfile, delimiter=',')\n",
    "    for row in reader:\n",
    "        lexicon_positive[row[0]] = int(row[1])\n",
    "\n",
    "lexicon_negative = dict()\n",
    "import csv\n",
    "with open('kamus/lexicon_negatif.csv', 'r') as csvfile:\n",
    "    reader = csv.reader(csvfile, delimiter=',')\n",
    "    for row in reader:\n",
    "        lexicon_negative[row[0]] = int(row[1])\n",
    "        \n",
    "# Function to determine sentiment polarity     \n",
    "def lexicon_indonesia(text):\n",
    "    #for word in text:\n",
    "    score = 0\n",
    "    for word in text:\n",
    "        if (word in lexicon_positive):\n",
    "            score = score + lexicon_positive[word]\n",
    "    for word in text:\n",
    "        if (word in lexicon_negative):\n",
    "            score = score + lexicon_negative[word]\n",
    "    sentimen=''\n",
    "    if (score >= 0):\n",
    "        sentimen = 'positif'\n",
    "    else:\n",
    "        sentimen = 'negatif'\n",
    "    return score, sentimen"
   ]
  },
  {
   "cell_type": "code",
   "execution_count": 11,
   "id": "15851bb4",
   "metadata": {},
   "outputs": [
    {
     "name": "stdout",
     "output_type": "stream",
     "text": [
      "negatif    2626\n",
      "positif    477 \n",
      "Name: sentimen, dtype: int64\n"
     ]
    }
   ],
   "source": [
    "results = data['text_prep'].apply(lexicon_indonesia)\n",
    "results = list(zip(*results))\n",
    "data['sentimen_skor'] = results[0]\n",
    "data['sentimen'] = results[1]\n",
    "print(data['sentimen'].value_counts())"
   ]
  },
  {
   "cell_type": "code",
   "execution_count": 13,
   "id": "d31e68e6",
   "metadata": {},
   "outputs": [
    {
     "data": {
      "text/html": [
       "<div>\n",
       "<style scoped>\n",
       "    .dataframe tbody tr th:only-of-type {\n",
       "        vertical-align: middle;\n",
       "    }\n",
       "\n",
       "    .dataframe tbody tr th {\n",
       "        vertical-align: top;\n",
       "    }\n",
       "\n",
       "    .dataframe thead th {\n",
       "        text-align: right;\n",
       "    }\n",
       "</style>\n",
       "<table border=\"1\" class=\"dataframe\">\n",
       "  <thead>\n",
       "    <tr style=\"text-align: right;\">\n",
       "      <th></th>\n",
       "      <th>komentar</th>\n",
       "      <th>text_prep</th>\n",
       "      <th>sentimen_skor</th>\n",
       "      <th>sentimen</th>\n",
       "    </tr>\n",
       "  </thead>\n",
       "  <tbody>\n",
       "    <tr>\n",
       "      <th>0</th>\n",
       "      <td>Login pake nomor hape yang SUDAH TERDAFTAR di Peduli Lindungi, ga bisa dan diminta register. Lanjut register dengan nomor hape YANG SAMA dan YANG SELAMA INI DIPAKAI untuk masuk ke Peduli Lindungi (ga pernah ganti nomor!), masuk ke Satu Sehat tapi NAMA TIDAK DITEMUKAN, NIK TIDAK DITEMUKAN (kapan saya pernah ganti nama dan ganti NIK padahal udah vaksin 3x toloong!). Logout dan coba login lagi dengan nomor hape yang sama .. diminta register lagi. Ini aplikasi Satu Sehat wajib diinstall ga sih? Wajib/perlu dipake? Kalo ga perlu, aku delete aja deh. Kok ribet mau login/daftar aja ??!!!</td>\n",
       "      <td>[login, pakai, nomor, hape, terdaftar, peduli, lindungi, register, register, nomor, hape, dipakai, masuk, peduli, lindungi, ganti, nomor, masuk, sehat, nama, ditemukan, nik, ditemukan, ganti, nama, ganti, nik, vaksin,  tolong, logout, coba, login, nomor, hape, register, aplikasi, sehat, wajib, diinstall, sih, wajib, dipake, delete, deh, ribet, login, daftar]</td>\n",
       "      <td>-60</td>\n",
       "      <td>negatif</td>\n",
       "    </tr>\n",
       "    <tr>\n",
       "      <th>1</th>\n",
       "      <td>Gabisa login sama sekali😢</td>\n",
       "      <td>[gabisa, login]</td>\n",
       "      <td>-3</td>\n",
       "      <td>negatif</td>\n",
       "    </tr>\n",
       "    <tr>\n",
       "      <th>2</th>\n",
       "      <td>Sertifikat vaksin booster ke 2 ku gk masuk, gimana itu?</td>\n",
       "      <td>[sertifikat, vaksin, booster, masuk]</td>\n",
       "      <td>-7</td>\n",
       "      <td>negatif</td>\n",
       "    </tr>\n",
       "    <tr>\n",
       "      <th>3</th>\n",
       "      <td>Ga jelas bgt, malah ilang sertifikat nya boss</td>\n",
       "      <td>[banget,  hilang, sertifikat]</td>\n",
       "      <td>-7</td>\n",
       "      <td>negatif</td>\n",
       "    </tr>\n",
       "    <tr>\n",
       "      <th>4</th>\n",
       "      <td>Plis kalo bikin aplikasi yg bagus ya pak bu, aplikasi masih banyak bug jangan di rilis duluuu👍👍👍👍</td>\n",
       "      <td>[bikin, aplikasi, bagus, ya, bu, aplikasi, bug, rilis,  dulu]</td>\n",
       "      <td>-16</td>\n",
       "      <td>negatif</td>\n",
       "    </tr>\n",
       "    <tr>\n",
       "      <th>5</th>\n",
       "      <td>Saya pengguna IOS. Sertifkat Vaksin booster tercantum dalam aplkasi. Namun, ketika diunduh, hanya Booster 1 yang ada. Kok ga sinkron aplikasi ini? Aplikasi sebelumnya jauh lebih baik. Mohon info. Saya sudah coba unduh berkali-kali, namun tetap booster 1 yanb terlihat. Ada baiknya dilakukan trial and error sebelum launching aplikasi. Terlalu banyak orang yang complain akan hal ini, termasuk saya</td>\n",
       "      <td>[pengguna, ios, sertifkat, vaksin, booster, tercantum, aplkasi, diunduh, booster, sinkron, aplikasi, aplikasi, mohon, info, coba, unduh, berkali, kali, booster, baiknya, trial, and, error, launching, aplikasi, orang, complain]</td>\n",
       "      <td>-41</td>\n",
       "      <td>negatif</td>\n",
       "    </tr>\n",
       "    <tr>\n",
       "      <th>6</th>\n",
       "      <td>Mau login tulisannya terjadi kesalahan.</td>\n",
       "      <td>[login, tulisannya, kesalahan]</td>\n",
       "      <td>-3</td>\n",
       "      <td>negatif</td>\n",
       "    </tr>\n",
       "    <tr>\n",
       "      <th>7</th>\n",
       "      <td>Habis updated ke SatuSehat vaksin sertifikatnya masih ada semua tapi habis di download dicari di file kaga ada, kalo pas PeduliLindungi hbs download langsung ada, fyi saya iphone user, help min</td>\n",
       "      <td>[habis, updated, satusehat, vaksin, sertifikatnya, habis, download, dicari, file,  tidak, pas, pedulilindungi,  habis, download, langsung, iphone, user, help, admin]</td>\n",
       "      <td>-5</td>\n",
       "      <td>negatif</td>\n",
       "    </tr>\n",
       "    <tr>\n",
       "      <th>8</th>\n",
       "      <td>Ganti nomor lama ke baru, lama banget yaa miin minimal 14 kerja atau apalah biar setidaknya ga nanya mulu tiap hari</td>\n",
       "      <td>[ganti, nomor, banget, ya,  admin, minimal, kerja, apalah, biar, mulu]</td>\n",
       "      <td>-19</td>\n",
       "      <td>negatif</td>\n",
       "    </tr>\n",
       "    <tr>\n",
       "      <th>9</th>\n",
       "      <td>Kartu imunisasi anak dimana ya min? Punya anankku ko hilang? Tiket booster 2 juga hilang min..</td>\n",
       "      <td>[kartu, imunisasi, anak, dimana, ya, admin,  anak, hilang, tiket, booster, hilang, admin]</td>\n",
       "      <td>-1</td>\n",
       "      <td>negatif</td>\n",
       "    </tr>\n",
       "  </tbody>\n",
       "</table>\n",
       "</div>"
      ],
      "text/plain": [
       "                                                                                                                                                                                                                                                                                                                                                                                                                                                                                                                                                                                                      komentar  \\\n",
       "0  Login pake nomor hape yang SUDAH TERDAFTAR di Peduli Lindungi, ga bisa dan diminta register. Lanjut register dengan nomor hape YANG SAMA dan YANG SELAMA INI DIPAKAI untuk masuk ke Peduli Lindungi (ga pernah ganti nomor!), masuk ke Satu Sehat tapi NAMA TIDAK DITEMUKAN, NIK TIDAK DITEMUKAN (kapan saya pernah ganti nama dan ganti NIK padahal udah vaksin 3x toloong!). Logout dan coba login lagi dengan nomor hape yang sama .. diminta register lagi. Ini aplikasi Satu Sehat wajib diinstall ga sih? Wajib/perlu dipake? Kalo ga perlu, aku delete aja deh. Kok ribet mau login/daftar aja ??!!!   \n",
       "1  Gabisa login sama sekali😢                                                                                                                                                                                                                                                                                                                                                                                                                                                                                                                                                                                     \n",
       "2  Sertifikat vaksin booster ke 2 ku gk masuk, gimana itu?                                                                                                                                                                                                                                                                                                                                                                                                                                                                                                                                                       \n",
       "3  Ga jelas bgt, malah ilang sertifikat nya boss                                                                                                                                                                                                                                                                                                                                                                                                                                                                                                                                                                 \n",
       "4  Plis kalo bikin aplikasi yg bagus ya pak bu, aplikasi masih banyak bug jangan di rilis duluuu👍👍👍👍                                                                                                                                                                                                                                                                                                                                                                                                                                                                                                             \n",
       "5  Saya pengguna IOS. Sertifkat Vaksin booster tercantum dalam aplkasi. Namun, ketika diunduh, hanya Booster 1 yang ada. Kok ga sinkron aplikasi ini? Aplikasi sebelumnya jauh lebih baik. Mohon info. Saya sudah coba unduh berkali-kali, namun tetap booster 1 yanb terlihat. Ada baiknya dilakukan trial and error sebelum launching aplikasi. Terlalu banyak orang yang complain akan hal ini, termasuk saya                                                                                                                                                                                                 \n",
       "6  Mau login tulisannya terjadi kesalahan.                                                                                                                                                                                                                                                                                                                                                                                                                                                                                                                                                                       \n",
       "7  Habis updated ke SatuSehat vaksin sertifikatnya masih ada semua tapi habis di download dicari di file kaga ada, kalo pas PeduliLindungi hbs download langsung ada, fyi saya iphone user, help min                                                                                                                                                                                                                                                                                                                                                                                                             \n",
       "8  Ganti nomor lama ke baru, lama banget yaa miin minimal 14 kerja atau apalah biar setidaknya ga nanya mulu tiap hari                                                                                                                                                                                                                                                                                                                                                                                                                                                                                           \n",
       "9  Kartu imunisasi anak dimana ya min? Punya anankku ko hilang? Tiket booster 2 juga hilang min..                                                                                                                                                                                                                                                                                                                                                                                                                                                                                                                \n",
       "\n",
       "                                                                                                                                                                                                                                                                                                                                                                  text_prep  \\\n",
       "0  [login, pakai, nomor, hape, terdaftar, peduli, lindungi, register, register, nomor, hape, dipakai, masuk, peduli, lindungi, ganti, nomor, masuk, sehat, nama, ditemukan, nik, ditemukan, ganti, nama, ganti, nik, vaksin,  tolong, logout, coba, login, nomor, hape, register, aplikasi, sehat, wajib, diinstall, sih, wajib, dipake, delete, deh, ribet, login, daftar]   \n",
       "1  [gabisa, login]                                                                                                                                                                                                                                                                                                                                                            \n",
       "2  [sertifikat, vaksin, booster, masuk]                                                                                                                                                                                                                                                                                                                                       \n",
       "3  [banget,  hilang, sertifikat]                                                                                                                                                                                                                                                                                                                                              \n",
       "4  [bikin, aplikasi, bagus, ya, bu, aplikasi, bug, rilis,  dulu]                                                                                                                                                                                                                                                                                                              \n",
       "5  [pengguna, ios, sertifkat, vaksin, booster, tercantum, aplkasi, diunduh, booster, sinkron, aplikasi, aplikasi, mohon, info, coba, unduh, berkali, kali, booster, baiknya, trial, and, error, launching, aplikasi, orang, complain]                                                                                                                                         \n",
       "6  [login, tulisannya, kesalahan]                                                                                                                                                                                                                                                                                                                                             \n",
       "7  [habis, updated, satusehat, vaksin, sertifikatnya, habis, download, dicari, file,  tidak, pas, pedulilindungi,  habis, download, langsung, iphone, user, help, admin]                                                                                                                                                                                                      \n",
       "8  [ganti, nomor, banget, ya,  admin, minimal, kerja, apalah, biar, mulu]                                                                                                                                                                                                                                                                                                     \n",
       "9  [kartu, imunisasi, anak, dimana, ya, admin,  anak, hilang, tiket, booster, hilang, admin]                                                                                                                                                                                                                                                                                  \n",
       "\n",
       "   sentimen_skor sentimen  \n",
       "0 -60             negatif  \n",
       "1 -3              negatif  \n",
       "2 -7              negatif  \n",
       "3 -7              negatif  \n",
       "4 -16             negatif  \n",
       "5 -41             negatif  \n",
       "6 -3              negatif  \n",
       "7 -5              negatif  \n",
       "8 -19             negatif  \n",
       "9 -1              negatif  "
      ]
     },
     "execution_count": 13,
     "metadata": {},
     "output_type": "execute_result"
    }
   ],
   "source": [
    "#filtering-stopword\n",
    "stop_words = set(stopwords.words(\"indonesian\"))\n",
    "ex_stopword = ['plis','yanb','ke','ku','ko','fyi','nya','boss']\n",
    "def text_prep(teks):\n",
    "    teks = [item for item in teks if item not in stopwords.words('indonesian')+ex_stopword]\n",
    "    return teks\n",
    "data['text_prep'] = data['text_prep'].apply(text_prep)\n",
    "data.head(10)"
   ]
  },
  {
   "cell_type": "code",
   "execution_count": 14,
   "id": "afe8f5aa",
   "metadata": {},
   "outputs": [
    {
     "data": {
      "text/html": [
       "<div>\n",
       "<style scoped>\n",
       "    .dataframe tbody tr th:only-of-type {\n",
       "        vertical-align: middle;\n",
       "    }\n",
       "\n",
       "    .dataframe tbody tr th {\n",
       "        vertical-align: top;\n",
       "    }\n",
       "\n",
       "    .dataframe thead th {\n",
       "        text-align: right;\n",
       "    }\n",
       "</style>\n",
       "<table border=\"1\" class=\"dataframe\">\n",
       "  <thead>\n",
       "    <tr style=\"text-align: right;\">\n",
       "      <th></th>\n",
       "      <th>komentar</th>\n",
       "      <th>text_prep</th>\n",
       "      <th>sentimen_skor</th>\n",
       "      <th>sentimen</th>\n",
       "    </tr>\n",
       "  </thead>\n",
       "  <tbody>\n",
       "    <tr>\n",
       "      <th>0</th>\n",
       "      <td>Login pake nomor hape yang SUDAH TERDAFTAR di Peduli Lindungi, ga bisa dan diminta register. Lanjut register dengan nomor hape YANG SAMA dan YANG SELAMA INI DIPAKAI untuk masuk ke Peduli Lindungi (ga pernah ganti nomor!), masuk ke Satu Sehat tapi NAMA TIDAK DITEMUKAN, NIK TIDAK DITEMUKAN (kapan saya pernah ganti nama dan ganti NIK padahal udah vaksin 3x toloong!). Logout dan coba login lagi dengan nomor hape yang sama .. diminta register lagi. Ini aplikasi Satu Sehat wajib diinstall ga sih? Wajib/perlu dipake? Kalo ga perlu, aku delete aja deh. Kok ribet mau login/daftar aja ??!!!</td>\n",
       "      <td>login pakai nomor hape daftar peduli lindung register register nomor hape pakai masuk peduli lindung ganti nomor masuk sehat nama temu nik temu ganti nama ganti nik vaksin tolong logout coba login nomor hape register aplikasi sehat wajib diinstall sih wajib dipake delete deh ribet login daftar</td>\n",
       "      <td>-60</td>\n",
       "      <td>negatif</td>\n",
       "    </tr>\n",
       "    <tr>\n",
       "      <th>1</th>\n",
       "      <td>Gabisa login sama sekali😢</td>\n",
       "      <td>gabisa login</td>\n",
       "      <td>-3</td>\n",
       "      <td>negatif</td>\n",
       "    </tr>\n",
       "    <tr>\n",
       "      <th>2</th>\n",
       "      <td>Sertifikat vaksin booster ke 2 ku gk masuk, gimana itu?</td>\n",
       "      <td>sertifikat vaksin booster masuk</td>\n",
       "      <td>-7</td>\n",
       "      <td>negatif</td>\n",
       "    </tr>\n",
       "    <tr>\n",
       "      <th>3</th>\n",
       "      <td>Ga jelas bgt, malah ilang sertifikat nya boss</td>\n",
       "      <td>banget hilang sertifikat</td>\n",
       "      <td>-7</td>\n",
       "      <td>negatif</td>\n",
       "    </tr>\n",
       "    <tr>\n",
       "      <th>4</th>\n",
       "      <td>Plis kalo bikin aplikasi yg bagus ya pak bu, aplikasi masih banyak bug jangan di rilis duluuu👍👍👍👍</td>\n",
       "      <td>bikin aplikasi bagus ya bu aplikasi bug rilis dulu</td>\n",
       "      <td>-16</td>\n",
       "      <td>negatif</td>\n",
       "    </tr>\n",
       "    <tr>\n",
       "      <th>5</th>\n",
       "      <td>Saya pengguna IOS. Sertifkat Vaksin booster tercantum dalam aplkasi. Namun, ketika diunduh, hanya Booster 1 yang ada. Kok ga sinkron aplikasi ini? Aplikasi sebelumnya jauh lebih baik. Mohon info. Saya sudah coba unduh berkali-kali, namun tetap booster 1 yanb terlihat. Ada baiknya dilakukan trial and error sebelum launching aplikasi. Terlalu banyak orang yang complain akan hal ini, termasuk saya</td>\n",
       "      <td>guna ios sertifkat vaksin booster cantum aplkasi unduh booster sinkron aplikasi aplikasi mohon info coba unduh kali kali booster baik trial and error launching aplikasi orang complain</td>\n",
       "      <td>-41</td>\n",
       "      <td>negatif</td>\n",
       "    </tr>\n",
       "    <tr>\n",
       "      <th>6</th>\n",
       "      <td>Mau login tulisannya terjadi kesalahan.</td>\n",
       "      <td>login tulis salah</td>\n",
       "      <td>-3</td>\n",
       "      <td>negatif</td>\n",
       "    </tr>\n",
       "    <tr>\n",
       "      <th>7</th>\n",
       "      <td>Habis updated ke SatuSehat vaksin sertifikatnya masih ada semua tapi habis di download dicari di file kaga ada, kalo pas PeduliLindungi hbs download langsung ada, fyi saya iphone user, help min</td>\n",
       "      <td>habis updated satusehat vaksin sertifikat habis download cari file tidak pas pedulilindungi habis download langsung iphone user help admin</td>\n",
       "      <td>-5</td>\n",
       "      <td>negatif</td>\n",
       "    </tr>\n",
       "    <tr>\n",
       "      <th>8</th>\n",
       "      <td>Ganti nomor lama ke baru, lama banget yaa miin minimal 14 kerja atau apalah biar setidaknya ga nanya mulu tiap hari</td>\n",
       "      <td>ganti nomor banget ya admin minimal kerja apa biar mulu</td>\n",
       "      <td>-19</td>\n",
       "      <td>negatif</td>\n",
       "    </tr>\n",
       "    <tr>\n",
       "      <th>9</th>\n",
       "      <td>Kartu imunisasi anak dimana ya min? Punya anankku ko hilang? Tiket booster 2 juga hilang min..</td>\n",
       "      <td>kartu imunisasi anak mana ya admin anak hilang tiket booster hilang admin</td>\n",
       "      <td>-1</td>\n",
       "      <td>negatif</td>\n",
       "    </tr>\n",
       "  </tbody>\n",
       "</table>\n",
       "</div>"
      ],
      "text/plain": [
       "                                                                                                                                                                                                                                                                                                                                                                                                                                                                                                                                                                                                      komentar  \\\n",
       "0  Login pake nomor hape yang SUDAH TERDAFTAR di Peduli Lindungi, ga bisa dan diminta register. Lanjut register dengan nomor hape YANG SAMA dan YANG SELAMA INI DIPAKAI untuk masuk ke Peduli Lindungi (ga pernah ganti nomor!), masuk ke Satu Sehat tapi NAMA TIDAK DITEMUKAN, NIK TIDAK DITEMUKAN (kapan saya pernah ganti nama dan ganti NIK padahal udah vaksin 3x toloong!). Logout dan coba login lagi dengan nomor hape yang sama .. diminta register lagi. Ini aplikasi Satu Sehat wajib diinstall ga sih? Wajib/perlu dipake? Kalo ga perlu, aku delete aja deh. Kok ribet mau login/daftar aja ??!!!   \n",
       "1  Gabisa login sama sekali😢                                                                                                                                                                                                                                                                                                                                                                                                                                                                                                                                                                                     \n",
       "2  Sertifikat vaksin booster ke 2 ku gk masuk, gimana itu?                                                                                                                                                                                                                                                                                                                                                                                                                                                                                                                                                       \n",
       "3  Ga jelas bgt, malah ilang sertifikat nya boss                                                                                                                                                                                                                                                                                                                                                                                                                                                                                                                                                                 \n",
       "4  Plis kalo bikin aplikasi yg bagus ya pak bu, aplikasi masih banyak bug jangan di rilis duluuu👍👍👍👍                                                                                                                                                                                                                                                                                                                                                                                                                                                                                                             \n",
       "5  Saya pengguna IOS. Sertifkat Vaksin booster tercantum dalam aplkasi. Namun, ketika diunduh, hanya Booster 1 yang ada. Kok ga sinkron aplikasi ini? Aplikasi sebelumnya jauh lebih baik. Mohon info. Saya sudah coba unduh berkali-kali, namun tetap booster 1 yanb terlihat. Ada baiknya dilakukan trial and error sebelum launching aplikasi. Terlalu banyak orang yang complain akan hal ini, termasuk saya                                                                                                                                                                                                 \n",
       "6  Mau login tulisannya terjadi kesalahan.                                                                                                                                                                                                                                                                                                                                                                                                                                                                                                                                                                       \n",
       "7  Habis updated ke SatuSehat vaksin sertifikatnya masih ada semua tapi habis di download dicari di file kaga ada, kalo pas PeduliLindungi hbs download langsung ada, fyi saya iphone user, help min                                                                                                                                                                                                                                                                                                                                                                                                             \n",
       "8  Ganti nomor lama ke baru, lama banget yaa miin minimal 14 kerja atau apalah biar setidaknya ga nanya mulu tiap hari                                                                                                                                                                                                                                                                                                                                                                                                                                                                                           \n",
       "9  Kartu imunisasi anak dimana ya min? Punya anankku ko hilang? Tiket booster 2 juga hilang min..                                                                                                                                                                                                                                                                                                                                                                                                                                                                                                                \n",
       "\n",
       "                                                                                                                                                                                                                                                                                                text_prep  \\\n",
       "0  login pakai nomor hape daftar peduli lindung register register nomor hape pakai masuk peduli lindung ganti nomor masuk sehat nama temu nik temu ganti nama ganti nik vaksin tolong logout coba login nomor hape register aplikasi sehat wajib diinstall sih wajib dipake delete deh ribet login daftar   \n",
       "1  gabisa login                                                                                                                                                                                                                                                                                             \n",
       "2  sertifikat vaksin booster masuk                                                                                                                                                                                                                                                                          \n",
       "3  banget hilang sertifikat                                                                                                                                                                                                                                                                                 \n",
       "4  bikin aplikasi bagus ya bu aplikasi bug rilis dulu                                                                                                                                                                                                                                                       \n",
       "5  guna ios sertifkat vaksin booster cantum aplkasi unduh booster sinkron aplikasi aplikasi mohon info coba unduh kali kali booster baik trial and error launching aplikasi orang complain                                                                                                                  \n",
       "6  login tulis salah                                                                                                                                                                                                                                                                                        \n",
       "7  habis updated satusehat vaksin sertifikat habis download cari file tidak pas pedulilindungi habis download langsung iphone user help admin                                                                                                                                                               \n",
       "8  ganti nomor banget ya admin minimal kerja apa biar mulu                                                                                                                                                                                                                                                  \n",
       "9  kartu imunisasi anak mana ya admin anak hilang tiket booster hilang admin                                                                                                                                                                                                                                \n",
       "\n",
       "   sentimen_skor sentimen  \n",
       "0 -60             negatif  \n",
       "1 -3              negatif  \n",
       "2 -7              negatif  \n",
       "3 -7              negatif  \n",
       "4 -16             negatif  \n",
       "5 -41             negatif  \n",
       "6 -3              negatif  \n",
       "7 -5              negatif  \n",
       "8 -19             negatif  \n",
       "9 -1              negatif  "
      ]
     },
     "execution_count": 14,
     "metadata": {},
     "output_type": "execute_result"
    }
   ],
   "source": [
    "factory = StemmerFactory()\n",
    "stemmer = factory.create_stemmer()\n",
    "def text_prep(teks):\n",
    "    teks = str(teks).lower()\n",
    "    teks = stemmer.stem(teks)\n",
    "    return teks\n",
    "data['text_prep'] = data['text_prep'].apply(text_prep)\n",
    "data.head(10)"
   ]
  },
  {
   "cell_type": "code",
   "execution_count": 15,
   "id": "872af179",
   "metadata": {},
   "outputs": [
    {
     "data": {
      "text/plain": [
       "(2875, 2)"
      ]
     },
     "execution_count": 15,
     "metadata": {},
     "output_type": "execute_result"
    }
   ],
   "source": [
    "data = data[['text_prep','sentimen']]\n",
    "data = data.drop_duplicates()\n",
    "data.shape"
   ]
  },
  {
   "cell_type": "markdown",
   "id": "6b9e8fe6",
   "metadata": {},
   "source": [
    "# TF-IDF"
   ]
  },
  {
   "cell_type": "code",
   "execution_count": 36,
   "id": "b3b63b83",
   "metadata": {},
   "outputs": [
    {
     "data": {
      "text/html": [
       "<div>\n",
       "<style scoped>\n",
       "    .dataframe tbody tr th:only-of-type {\n",
       "        vertical-align: middle;\n",
       "    }\n",
       "\n",
       "    .dataframe tbody tr th {\n",
       "        vertical-align: top;\n",
       "    }\n",
       "\n",
       "    .dataframe thead th {\n",
       "        text-align: right;\n",
       "    }\n",
       "</style>\n",
       "<table border=\"1\" class=\"dataframe\">\n",
       "  <thead>\n",
       "    <tr style=\"text-align: right;\">\n",
       "      <th></th>\n",
       "      <th>text_prep</th>\n",
       "      <th>sentimen</th>\n",
       "    </tr>\n",
       "  </thead>\n",
       "  <tbody>\n",
       "    <tr>\n",
       "      <th>0</th>\n",
       "      <td>login pakai nomor hape daftar peduli lindung register register nomor hape pakai masuk peduli lindung ganti nomor masuk sehat nama temu nik temu ganti nama ganti nik vaksin tolong logout coba login nomor hape register aplikasi sehat wajib diinstall sih wajib dipake delete deh ribet login daftar</td>\n",
       "      <td>0</td>\n",
       "    </tr>\n",
       "    <tr>\n",
       "      <th>1</th>\n",
       "      <td>gabisa login</td>\n",
       "      <td>0</td>\n",
       "    </tr>\n",
       "    <tr>\n",
       "      <th>2</th>\n",
       "      <td>sertifikat vaksin booster masuk</td>\n",
       "      <td>0</td>\n",
       "    </tr>\n",
       "    <tr>\n",
       "      <th>3</th>\n",
       "      <td>banget hilang sertifikat</td>\n",
       "      <td>0</td>\n",
       "    </tr>\n",
       "    <tr>\n",
       "      <th>4</th>\n",
       "      <td>bikin aplikasi bagus ya bu aplikasi bug rilis dulu</td>\n",
       "      <td>0</td>\n",
       "    </tr>\n",
       "    <tr>\n",
       "      <th>...</th>\n",
       "      <td>...</td>\n",
       "      <td>...</td>\n",
       "    </tr>\n",
       "    <tr>\n",
       "      <th>3097</th>\n",
       "      <td>sertifikat tulis booster</td>\n",
       "      <td>0</td>\n",
       "    </tr>\n",
       "    <tr>\n",
       "      <th>3099</th>\n",
       "      <td>tolong admin vaksin boster ganti satusehat vaksin sertifikat tidak tolong id</td>\n",
       "      <td>0</td>\n",
       "    </tr>\n",
       "    <tr>\n",
       "      <th>3100</th>\n",
       "      <td>vaksin vaksin hilang update</td>\n",
       "      <td>0</td>\n",
       "    </tr>\n",
       "    <tr>\n",
       "      <th>3101</th>\n",
       "      <td>login sertifikat vaksin gaada info vaksin booster booster moga sempurna aplikasi</td>\n",
       "      <td>0</td>\n",
       "    </tr>\n",
       "    <tr>\n",
       "      <th>3102</th>\n",
       "      <td>update sertifikat vaksin boster hilang status jdi vaksin aneh</td>\n",
       "      <td>0</td>\n",
       "    </tr>\n",
       "  </tbody>\n",
       "</table>\n",
       "<p>2875 rows × 2 columns</p>\n",
       "</div>"
      ],
      "text/plain": [
       "                                                                                                                                                                                                                                                                                                   text_prep  \\\n",
       "0     login pakai nomor hape daftar peduli lindung register register nomor hape pakai masuk peduli lindung ganti nomor masuk sehat nama temu nik temu ganti nama ganti nik vaksin tolong logout coba login nomor hape register aplikasi sehat wajib diinstall sih wajib dipake delete deh ribet login daftar   \n",
       "1     gabisa login                                                                                                                                                                                                                                                                                             \n",
       "2     sertifikat vaksin booster masuk                                                                                                                                                                                                                                                                          \n",
       "3     banget hilang sertifikat                                                                                                                                                                                                                                                                                 \n",
       "4     bikin aplikasi bagus ya bu aplikasi bug rilis dulu                                                                                                                                                                                                                                                       \n",
       "...                                                  ...                                                                                                                                                                                                                                                       \n",
       "3097  sertifikat tulis booster                                                                                                                                                                                                                                                                                 \n",
       "3099  tolong admin vaksin boster ganti satusehat vaksin sertifikat tidak tolong id                                                                                                                                                                                                                             \n",
       "3100  vaksin vaksin hilang update                                                                                                                                                                                                                                                                              \n",
       "3101  login sertifikat vaksin gaada info vaksin booster booster moga sempurna aplikasi                                                                                                                                                                                                                         \n",
       "3102  update sertifikat vaksin boster hilang status jdi vaksin aneh                                                                                                                                                                                                                                            \n",
       "\n",
       "      sentimen  \n",
       "0     0         \n",
       "1     0         \n",
       "2     0         \n",
       "3     0         \n",
       "4     0         \n",
       "...  ..         \n",
       "3097  0         \n",
       "3099  0         \n",
       "3100  0         \n",
       "3101  0         \n",
       "3102  0         \n",
       "\n",
       "[2875 rows x 2 columns]"
      ]
     },
     "execution_count": 36,
     "metadata": {},
     "output_type": "execute_result"
    }
   ],
   "source": [
    "#mengubah menjadi sentimen menjadi numerik\n",
    "# 0 untuk negatif\n",
    "# 1 untuk positif\n",
    "from sklearn.preprocessing import LabelEncoder\n",
    "le = LabelEncoder()\n",
    "data['sentimen'] = le.fit_transform(data['sentimen'])\n",
    "data"
   ]
  },
  {
   "cell_type": "code",
   "execution_count": 18,
   "id": "4cefadc3",
   "metadata": {},
   "outputs": [
    {
     "name": "stdout",
     "output_type": "stream",
     "text": [
      "Menampilkan TFIDF sample ke-4 \n",
      "\n",
      "bikin aplikasi bagus ya bu aplikasi bug rilis dulu \n",
      "\n",
      "\t \tTerm \t TF \t IDF \t TF-IDF\n",
      "\n",
      "            aplikasi \t 0.250 \t 2.445 \t 0.611\n",
      "               bagus \t 0.125 \t 5.203 \t 0.650\n",
      "               bikin \t 0.125 \t 4.715 \t 0.589\n",
      "                  bu \t 0.125 \t 7.354 \t 0.919\n",
      "                 bug \t 0.125 \t 6.479 \t 0.810\n",
      "               rilis \t 0.125 \t 7.354 \t 0.919\n",
      "                  ya \t 0.125 \t 3.089 \t 0.386\n"
     ]
    }
   ],
   "source": [
    "#menampilkan hasil tf-idf per kalimat\n",
    "from sklearn.feature_extraction.text import CountVectorizer\n",
    "from sklearn.feature_extraction.text import TfidfVectorizer\n",
    "from sklearn.preprocessing import normalize\n",
    "\n",
    "max_features = 1000\n",
    "\n",
    "def generate_tfidf_mat(min_gram, max_gram):\n",
    "    cvect = CountVectorizer(max_features=max_features)\n",
    "    counts = cvect.fit_transform(data[\"text_prep\"])\n",
    "\n",
    "    normalized_counts = normalize(counts, norm='l1', axis=1)\n",
    "\n",
    "    tfidf = TfidfVectorizer(max_features=max_features, smooth_idf=False)\n",
    "    tfs = tfidf.fit_transform(data[\"text_prep\"])\n",
    "\n",
    "    tfidf_mat = normalized_counts.multiply(tfidf.idf_).toarray()\n",
    "    \n",
    "    TF = normalized_counts.toarray()\n",
    "    IDF = tfidf.idf_\n",
    "    TF_IDF = tfidf_mat\n",
    "    return TF, IDF, TF_IDF, tfidf.get_feature_names_out()\n",
    "\n",
    "# ngram_range (1, 1) to use unigram only\n",
    "tf_mat_unigram, idf_mat_unigram, tfidf_mat_unigram, terms_unigram = generate_tfidf_mat(1,1)\n",
    "\n",
    "# ---------- check sparse data -------------------\n",
    "idx_sample = 4\n",
    "\n",
    "print(\"Menampilkan TFIDF sample ke-\" + str(idx_sample), \"\\n\")\n",
    "print(data[\"text_prep\"][idx_sample], \"\\n\")\n",
    "\n",
    "print(\"\\t\", \"\\tTerm\", \"\\t\", \"TF\", \"\\t\", \"IDF\", \"\\t\", \"TF-IDF\\n\")\n",
    "for i, item in enumerate(zip(tf_mat_unigram[idx_sample], idf_mat_unigram, tfidf_mat_unigram[idx_sample], terms_unigram)):\n",
    "    if(item[2] != 0.0):\n",
    "        print ('%20s' % item[3], \"\\t\", \n",
    "               \"%.3f\" % item[0], \"\\t\", \n",
    "               \"%.3f\" % item[1], \"\\t\", \n",
    "               \"%.3f\" % item[2])"
   ]
  },
  {
   "cell_type": "code",
   "execution_count": 19,
   "id": "61154f32",
   "metadata": {},
   "outputs": [
    {
     "name": "stdout",
     "output_type": "stream",
     "text": [
      "  (0, 2794)\t0.10886128986274798\n",
      "  (0, 691)\t0.10886128986274798\n",
      "  (0, 695)\t0.16153910137889466\n",
      "  (0, 789)\t0.134854993973403\n",
      "  (0, 3036)\t0.08794235193220945\n",
      "  (0, 766)\t0.16153910137889466\n",
      "  (0, 3558)\t0.23941301698500417\n",
      "  (0, 168)\t0.05018424798848319\n",
      "  (0, 599)\t0.08737964374702886\n",
      "  (0, 1903)\t0.14730354681550095\n",
      "  (0, 3366)\t0.07045958092706152\n",
      "  (0, 3519)\t0.0441252792263525\n",
      "  (0, 2323)\t0.17665248561947341\n",
      "  (0, 3288)\t0.28827533473416145\n",
      "  (0, 2192)\t0.16464261260933571\n",
      "  (0, 2921)\t0.13660770363086575\n",
      "  (0, 1082)\t0.24441406434057125\n",
      "  (0, 2017)\t0.14722387094560938\n",
      "  (0, 2760)\t0.38147910985580646\n",
      "  (0, 1876)\t0.14501301655965415\n",
      "  (0, 2518)\t0.14483403968412525\n",
      "  (0, 654)\t0.16131037047649294\n",
      "  (0, 1231)\t0.4169288436568372\n",
      "  (0, 2340)\t0.33910588993515683\n",
      "  (0, 2462)\t0.153777059639864\n",
      "  :\t:\n",
      "  (2871, 2873)\t0.30066461384412374\n",
      "  (2871, 2989)\t0.18600317681949965\n",
      "  (2871, 3366)\t0.5388786509936357\n",
      "  (2871, 3519)\t0.3374725002811053\n",
      "  (2871, 1082)\t0.31154864378217545\n",
      "  (2872, 3482)\t0.49102288157811397\n",
      "  (2872, 1289)\t0.5272511275357695\n",
      "  (2872, 3519)\t0.6934715410735937\n",
      "  (2873, 1051)\t0.4375015914468417\n",
      "  (2873, 2952)\t0.45543893816784425\n",
      "  (2873, 2140)\t0.4015336051519877\n",
      "  (2873, 1377)\t0.34963502715273254\n",
      "  (2873, 453)\t0.3669671369234957\n",
      "  (2873, 2989)\t0.16192131692010656\n",
      "  (2873, 168)\t0.16705982149494958\n",
      "  (2873, 3519)\t0.2937798837858827\n",
      "  (2873, 1894)\t0.20638518908449494\n",
      "  (2874, 1473)\t0.5032069186910986\n",
      "  (2874, 118)\t0.4434192835430563\n",
      "  (2874, 3155)\t0.40237971713624593\n",
      "  (2874, 467)\t0.3602987105207629\n",
      "  (2874, 3482)\t0.23316862926617804\n",
      "  (2874, 1289)\t0.2503720850878609\n",
      "  (2874, 2989)\t0.1815009926799589\n",
      "  (2874, 3519)\t0.32930401969772705\n"
     ]
    }
   ],
   "source": [
    "#mengubah seluruh dokumen\n",
    "cv = CountVectorizer()\n",
    "tv = TfidfVectorizer()\n",
    "\n",
    "count = cv.fit_transform(data['text_prep'])\n",
    "tf_v = tv.fit_transform(data['text_prep'])\n",
    "\n",
    "print(tf_v)"
   ]
  },
  {
   "cell_type": "markdown",
   "id": "844c9238",
   "metadata": {},
   "source": [
    "# SMOTE"
   ]
  },
  {
   "cell_type": "code",
   "execution_count": 20,
   "id": "4bea4e50",
   "metadata": {},
   "outputs": [
    {
     "data": {
      "image/png": "[encoded data removed]",
      "text/plain": [
       "<Figure size 640x480 with 1 Axes>"
      ]
     },
     "metadata": {},
     "output_type": "display_data"
    }
   ],
   "source": [
    "#visualisasi\n",
    "# menampilkan jumlah data untuk setiap sentimen\n",
    "sns.countplot(x='sentimen', data=data)\n",
    "plt.show()"
   ]
  },
  {
   "cell_type": "code",
   "execution_count": 21,
   "id": "e1ce5d66",
   "metadata": {},
   "outputs": [],
   "source": [
    "from imblearn.over_sampling import SMOTE\n",
    "#X yang ditetapkan merupakan atribut yang mempengaruhi sentimen\n",
    "#Y merupakan sentimen itu sendiri\n",
    "x = tf_v\n",
    "y = data['sentimen']"
   ]
  },
  {
   "cell_type": "code",
   "execution_count": 22,
   "id": "b8d2d734",
   "metadata": {},
   "outputs": [],
   "source": [
    "sm = SMOTE(random_state=42)\n",
    "X_sampling, Y_sampling = sm.fit_resample(x, y)"
   ]
  },
  {
   "cell_type": "code",
   "execution_count": 23,
   "id": "68370b45",
   "metadata": {},
   "outputs": [
    {
     "name": "stdout",
     "output_type": "stream",
     "text": [
      "(4936, 3664)\n",
      "(4936,)\n"
     ]
    }
   ],
   "source": [
    "print(X_sampling.shape)\n",
    "print(Y_sampling.shape)"
   ]
  },
  {
   "cell_type": "code",
   "execution_count": 24,
   "id": "a99181b4",
   "metadata": {},
   "outputs": [
    {
     "data": {
      "text/plain": [
       "<function matplotlib.pyplot.show(close=None, block=None)>"
      ]
     },
     "execution_count": 24,
     "metadata": {},
     "output_type": "execute_result"
    },
    {
     "data": {
      "image/png": "[encoded data removed]",
      "text/plain": [
       "<Figure size 640x480 with 1 Axes>"
      ]
     },
     "metadata": {},
     "output_type": "display_data"
    }
   ],
   "source": [
    "sns.histplot(data=Y_sampling)\n",
    "plt.show"
   ]
  },
  {
   "cell_type": "markdown",
   "id": "7e85b65d",
   "metadata": {},
   "source": [
    "# SPLITTING DATA"
   ]
  },
  {
   "cell_type": "code",
   "execution_count": 25,
   "id": "bb4a5a41",
   "metadata": {},
   "outputs": [
    {
     "data": {
      "text/plain": [
       "(988, 3664)"
      ]
     },
     "execution_count": 25,
     "metadata": {},
     "output_type": "execute_result"
    }
   ],
   "source": [
    "from sklearn.model_selection import train_test_split\n",
    "\n",
    "X_train, X_test, Y_train, Y_test = train_test_split(X_sampling,Y_sampling, test_size=0.20, random_state = 42)\n",
    "X_test.shape"
   ]
  },
  {
   "cell_type": "code",
   "execution_count": 26,
   "id": "87e5a85c",
   "metadata": {},
   "outputs": [],
   "source": [
    "import seaborn as sns\n",
    "import matplotlib.pyplot as plt\n",
    "from sklearn.naive_bayes import MultinomialNB\n",
    "from sklearn.metrics import classification_report, accuracy_score\n",
    "from sklearn.metrics import precision_score, recall_score, f1_score\n",
    "from sklearn.metrics import confusion_matrix\n",
    "\n",
    "classifier = MultinomialNB()\n",
    "classifier.fit(X_train, Y_train)\n",
    "naive_bayes_pred = classifier.predict(X_test)"
   ]
  },
  {
   "cell_type": "code",
   "execution_count": 27,
   "id": "f87a2324",
   "metadata": {},
   "outputs": [
    {
     "name": "stdout",
     "output_type": "stream",
     "text": [
      "Akurasi Model    :  0.8421052631578947\n"
     ]
    }
   ],
   "source": [
    "print('Akurasi Model    : ', accuracy_score(naive_bayes_pred, Y_test))"
   ]
  },
  {
   "cell_type": "code",
   "execution_count": 28,
   "id": "c5ebf961",
   "metadata": {},
   "outputs": [
    {
     "name": "stdout",
     "output_type": "stream",
     "text": [
      "              precision    recall  f1-score   support\n",
      "\n",
      "           0       0.90      0.77      0.83       495\n",
      "           1       0.80      0.92      0.85       493\n",
      "\n",
      "    accuracy                           0.84       988\n",
      "   macro avg       0.85      0.84      0.84       988\n",
      "weighted avg       0.85      0.84      0.84       988\n",
      "\n"
     ]
    }
   ],
   "source": [
    "print(classification_report(Y_test, naive_bayes_pred))"
   ]
  },
  {
   "cell_type": "code",
   "execution_count": 29,
   "id": "e7d457f3",
   "metadata": {},
   "outputs": [
    {
     "data": {
      "text/plain": [
       "array([[380, 115],\n",
       "       [ 41, 452]], dtype=int64)"
      ]
     },
     "execution_count": 29,
     "metadata": {},
     "output_type": "execute_result"
    }
   ],
   "source": [
    "conma = confusion_matrix(Y_test, naive_bayes_pred)\n",
    "conma"
   ]
  },
  {
   "cell_type": "code",
   "execution_count": 30,
   "id": "68aacacd",
   "metadata": {},
   "outputs": [
    {
     "data": {
      "image/png": "[encoded data removed]",
      "text/plain": [
       "<Figure size 640x480 with 2 Axes>"
      ]
     },
     "metadata": {},
     "output_type": "display_data"
    }
   ],
   "source": [
    "sns.heatmap(conma, annot=True, cmap='binary')\n",
    "plt.xlabel('Prediksi')\n",
    "plt.ylabel('Aktual')\n",
    "plt.title('Confusion Matrix')\n",
    "plt.show()"
   ]
  },
  {
   "cell_type": "code",
   "execution_count": 31,
   "id": "4569e4d7",
   "metadata": {},
   "outputs": [],
   "source": [
    "from sklearn.svm import SVC\n",
    "classifier = SVC(kernel = 'linear',  C = (10.0) , random_state = 42)\n",
    "classifier.fit(X_train, Y_train)\n",
    "svm_pred = classifier.predict(X_test)"
   ]
  },
  {
   "cell_type": "code",
   "execution_count": 32,
   "id": "d20ba4ec",
   "metadata": {},
   "outputs": [
    {
     "name": "stdout",
     "output_type": "stream",
     "text": [
      "Akurasi Model    :  0.8734817813765182\n"
     ]
    }
   ],
   "source": [
    "print('Akurasi Model    : ', accuracy_score(svm_pred, Y_test))"
   ]
  },
  {
   "cell_type": "code",
   "execution_count": 37,
   "id": "d2f3d2d7",
   "metadata": {},
   "outputs": [
    {
     "name": "stdout",
     "output_type": "stream",
     "text": [
      "Root Mean Square Error : 0.12651821862348178\n"
     ]
    }
   ],
   "source": [
    "from sklearn.metrics import mean_squared_error\n",
    "\n",
    "RMSE = mean_squared_error(Y_test, svm_pred)\n",
    "\n",
    "print('Root Mean Square Error :', RMSE)"
   ]
  },
  {
   "cell_type": "code",
   "execution_count": 33,
   "id": "78bb633c",
   "metadata": {},
   "outputs": [
    {
     "name": "stdout",
     "output_type": "stream",
     "text": [
      "              precision    recall  f1-score   support\n",
      "\n",
      "           0       0.98      0.77      0.86       495\n",
      "           1       0.81      0.98      0.89       493\n",
      "\n",
      "    accuracy                           0.87       988\n",
      "   macro avg       0.89      0.87      0.87       988\n",
      "weighted avg       0.89      0.87      0.87       988\n",
      "\n"
     ]
    }
   ],
   "source": [
    "print(classification_report(Y_test, svm_pred))"
   ]
  },
  {
   "cell_type": "code",
   "execution_count": 34,
   "id": "bf000c7c",
   "metadata": {},
   "outputs": [
    {
     "data": {
      "text/plain": [
       "array([[379, 116],\n",
       "       [  9, 484]], dtype=int64)"
      ]
     },
     "execution_count": 34,
     "metadata": {},
     "output_type": "execute_result"
    }
   ],
   "source": [
    "conma2 = confusion_matrix(Y_test, svm_pred)\n",
    "conma2"
   ]
  },
  {
   "cell_type": "code",
   "execution_count": 35,
   "id": "91804c70",
   "metadata": {},
   "outputs": [
    {
     "data": {
      "image/png": "[encoded data removed]",
      "text/plain": [
       "<Figure size 640x480 with 2 Axes>"
      ]
     },
     "metadata": {},
     "output_type": "display_data"
    }
   ],
   "source": [
    "sns.heatmap(conma2, annot=True, cmap='Greens')\n",
    "plt.xlabel('Prediksi')\n",
    "plt.ylabel('Aktual')\n",
    "plt.title('Confusion Matrix')\n",
    "plt.show()"
   ]
  },
  {
   "cell_type": "code",
   "execution_count": null,
   "id": "0cea817d",
   "metadata": {},
   "outputs": [],
   "source": []
  }
 ],
 "metadata": {
  "kernelspec": {
   "display_name": "Python 3 (ipykernel)",
   "language": "python",
   "name": "python3"
  },
  "language_info": {
   "codemirror_mode": {
    "name": "ipython",
    "version": 3
   },
   "file_extension": ".py",
   "mimetype": "text/x-python",
   "name": "python",
   "nbconvert_exporter": "python",
   "pygments_lexer": "ipython3",
   "version": "3.10.9"
  }
 },
 "nbformat": 4,
 "nbformat_minor": 5
}
