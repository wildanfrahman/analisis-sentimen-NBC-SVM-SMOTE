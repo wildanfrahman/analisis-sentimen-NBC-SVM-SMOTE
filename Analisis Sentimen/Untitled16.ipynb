{
 "cells": [
  {
   "cell_type": "code",
   "execution_count": 1,
   "metadata": {
    "colab": {
     "base_uri": "https://localhost:8080/"
    },
    "id": "9HcfLkfXjib5",
    "outputId": "5d325767-1f9a-42cc-ea3d-97f6b7dcde97"
   },
   "outputs": [
    {
     "name": "stdout",
     "output_type": "stream",
     "text": [
      "Requirement already satisfied: Sastrawi in c:\\users\\df\\anaconda3\\lib\\site-packages (1.0.1)\n"
     ]
    }
   ],
   "source": [
    "!pip install Sastrawi"
   ]
  },
  {
   "cell_type": "code",
   "execution_count": 2,
   "metadata": {
    "id": "r3NwrKfTi4nV"
   },
   "outputs": [],
   "source": [
    "import pandas as pd \n",
    "import re  \n",
    "import seaborn as sns\n",
    "sns.set_style('darkgrid')\n",
    "import matplotlib.pyplot as plt\n",
    "import warnings\n",
    "warnings.filterwarnings(\"ignore\")\n",
    "from Sastrawi.Stemmer.StemmerFactory import StemmerFactory\n",
    "# Tf-idf\n",
    "from sklearn.feature_extraction.text import TfidfVectorizer\n",
    "# Imbalance data\n",
    "from imblearn.over_sampling import SMOTE\n",
    "from collections import Counter\n",
    "# StandardScaler\n",
    "from sklearn.preprocessing import MinMaxScaler\n",
    "# Split data\n",
    "from sklearn.model_selection import train_test_split\n",
    "# Model Naive Bayes\n",
    "from sklearn.naive_bayes import GaussianNB\n",
    "from sklearn.metrics import classification_report, confusion_matrix, accuracy_score\n",
    "# WordCloud\n",
    "from wordcloud import WordCloud"
   ]
  },
  {
   "cell_type": "code",
   "execution_count": 10,
   "metadata": {
    "colab": {
     "base_uri": "https://localhost:8080/",
     "height": 206
    },
    "id": "QRr_J8VPj9ic",
    "outputId": "70c21606-d98e-4db1-fc2c-d35d7d819d06"
   },
   "outputs": [
    {
     "data": {
      "text/html": [
       "<div>\n",
       "<style scoped>\n",
       "    .dataframe tbody tr th:only-of-type {\n",
       "        vertical-align: middle;\n",
       "    }\n",
       "\n",
       "    .dataframe tbody tr th {\n",
       "        vertical-align: top;\n",
       "    }\n",
       "\n",
       "    .dataframe thead th {\n",
       "        text-align: right;\n",
       "    }\n",
       "</style>\n",
       "<table border=\"1\" class=\"dataframe\">\n",
       "  <thead>\n",
       "    <tr style=\"text-align: right;\">\n",
       "      <th></th>\n",
       "      <th>Tweet</th>\n",
       "      <th>Kelas</th>\n",
       "    </tr>\n",
       "  </thead>\n",
       "  <tbody>\n",
       "    <tr>\n",
       "      <th>0</th>\n",
       "      <td>['kira', 'total', 'gantung', 'iya', 'nder', 'tinggal', 'kota', 'jabodetabek', 'daerang', 'jakarta', 'tangerang', 'iya', 'ngumpulin', 'uang', 'tiket', 'nya', 'transportasi', 'venue', 'gampang', 'mhal', 'nya', 'jangkau', 'krl', 'transjakarta']</td>\n",
       "      <td>Negatif</td>\n",
       "    </tr>\n",
       "    <tr>\n",
       "      <th>1</th>\n",
       "      <td>['pagi', 'kak', 'terima', 'kasih', 'informasi', 'lapor', 'laku', 'evaluasi', 'terima', 'kasih', 'rsn']</td>\n",
       "      <td>Positif</td>\n",
       "    </tr>\n",
       "    <tr>\n",
       "      <th>2</th>\n",
       "      <td>['hai', 'kak', 'beli', 'kartu', 'jak', 'lingko', 'kartu', 'bni', 'mandiri', 'bri', 'beli', 'vending', 'machine', 'sedia', 'haltehalte', 'transjakarta', 'harga', 'rp', 'saldo', 'rp', 'terima', 'kasih', 'ra']</td>\n",
       "      <td>Positif</td>\n",
       "    </tr>\n",
       "    <tr>\n",
       "      <th>3</th>\n",
       "      <td>['transjakarta', 'tolong', 'admin', 'bus', 'tipe', 'ppd', 'tugas', 'dalam', 'pagi', 'koridor', 'tipe', 'ppd', 'kondisi', 'penuh', 'hamil', 'duduk', 'koridor', 'tipe', 'ppd', 'tugas', 'dalam', 'bus']</td>\n",
       "      <td>Negatif</td>\n",
       "    </tr>\n",
       "    <tr>\n",
       "      <th>4</th>\n",
       "      <td>['transjakarta', 'selamat', 'pagi', 'beli', 'kartu', 'jaklingko', 'mana', 'harga', 'iya', 'terima', 'kasih']</td>\n",
       "      <td>Positif</td>\n",
       "    </tr>\n",
       "    <tr>\n",
       "      <th>5</th>\n",
       "      <td>['transjakarta', 'ok', 'admin', 'pantau', 'iya', 'terima', 'kasih']</td>\n",
       "      <td>Positif</td>\n",
       "    </tr>\n",
       "    <tr>\n",
       "      <th>6</th>\n",
       "      <td>['transjakarta', 'pgc', 'rute', 'gimna', 'admin']</td>\n",
       "      <td>Negatif</td>\n",
       "    </tr>\n",
       "    <tr>\n",
       "      <th>7</th>\n",
       "      <td>['pemprov', 'dki', 'jakarta', 'rencana', 'lelang', 'aset', 'bus', 'transjakarta', 'bengkalai', 'dishub', 'proses', 'hapus', 'aset']</td>\n",
       "      <td>Negatif</td>\n",
       "    </tr>\n",
       "    <tr>\n",
       "      <th>8</th>\n",
       "      <td>['transjakarta', 'porsi', 'beda', 'dari', 'sabtu', 'minggu', 'tanggal', 'merah', 'cmn', 'armada']</td>\n",
       "      <td>Negatif</td>\n",
       "    </tr>\n",
       "    <tr>\n",
       "      <th>9</th>\n",
       "      <td>['pagi', 'kak', 'sedia', 'rute', 'summarecon', 'bekas', 'pancoran', 'tugu', 'rute', 'bekas', 'timur', 'cawang', 'uki', 'informasi', 'rute', 'sila', 'lihat', 'website', 'resmi', 'transjakarta', 'halaman', 'peta', 'rute', 'aplikasi', 'tije', 'terima', 'kasih', 'ra']</td>\n",
       "      <td>Negatif</td>\n",
       "    </tr>\n",
       "  </tbody>\n",
       "</table>\n",
       "</div>"
      ],
      "text/plain": [
       "                                                                                                                                                                                                                                                                      Tweet  \\\n",
       "0  ['kira', 'total', 'gantung', 'iya', 'nder', 'tinggal', 'kota', 'jabodetabek', 'daerang', 'jakarta', 'tangerang', 'iya', 'ngumpulin', 'uang', 'tiket', 'nya', 'transportasi', 'venue', 'gampang', 'mhal', 'nya', 'jangkau', 'krl', 'transjakarta']                          \n",
       "1  ['pagi', 'kak', 'terima', 'kasih', 'informasi', 'lapor', 'laku', 'evaluasi', 'terima', 'kasih', 'rsn']                                                                                                                                                                     \n",
       "2  ['hai', 'kak', 'beli', 'kartu', 'jak', 'lingko', 'kartu', 'bni', 'mandiri', 'bri', 'beli', 'vending', 'machine', 'sedia', 'haltehalte', 'transjakarta', 'harga', 'rp', 'saldo', 'rp', 'terima', 'kasih', 'ra']                                                             \n",
       "3  ['transjakarta', 'tolong', 'admin', 'bus', 'tipe', 'ppd', 'tugas', 'dalam', 'pagi', 'koridor', 'tipe', 'ppd', 'kondisi', 'penuh', 'hamil', 'duduk', 'koridor', 'tipe', 'ppd', 'tugas', 'dalam', 'bus']                                                                     \n",
       "4  ['transjakarta', 'selamat', 'pagi', 'beli', 'kartu', 'jaklingko', 'mana', 'harga', 'iya', 'terima', 'kasih']                                                                                                                                                               \n",
       "5  ['transjakarta', 'ok', 'admin', 'pantau', 'iya', 'terima', 'kasih']                                                                                                                                                                                                        \n",
       "6  ['transjakarta', 'pgc', 'rute', 'gimna', 'admin']                                                                                                                                                                                                                          \n",
       "7  ['pemprov', 'dki', 'jakarta', 'rencana', 'lelang', 'aset', 'bus', 'transjakarta', 'bengkalai', 'dishub', 'proses', 'hapus', 'aset']                                                                                                                                        \n",
       "8  ['transjakarta', 'porsi', 'beda', 'dari', 'sabtu', 'minggu', 'tanggal', 'merah', 'cmn', 'armada']                                                                                                                                                                          \n",
       "9  ['pagi', 'kak', 'sedia', 'rute', 'summarecon', 'bekas', 'pancoran', 'tugu', 'rute', 'bekas', 'timur', 'cawang', 'uki', 'informasi', 'rute', 'sila', 'lihat', 'website', 'resmi', 'transjakarta', 'halaman', 'peta', 'rute', 'aplikasi', 'tije', 'terima', 'kasih', 'ra']   \n",
       "\n",
       "     Kelas  \n",
       "0  Negatif  \n",
       "1  Positif  \n",
       "2  Positif  \n",
       "3  Negatif  \n",
       "4  Positif  \n",
       "5  Positif  \n",
       "6  Negatif  \n",
       "7  Negatif  \n",
       "8  Negatif  \n",
       "9  Negatif  "
      ]
     },
     "execution_count": 10,
     "metadata": {},
     "output_type": "execute_result"
    }
   ],
   "source": [
    "df = pd.read_csv(\"Hasil_Preprocessing_Pelabelan_MarApr-fix.csv\", usecols=[\"Data_Preprocessing\", \"Polarity\"])\n",
    "df.columns = [\"Tweet\", \"Kelas\"]\n",
    "pd.set_option('max_colwidth',1)\n",
    "\n",
    "df.head(10)"
   ]
  },
  {
   "cell_type": "code",
   "execution_count": 11,
   "metadata": {
    "colab": {
     "base_uri": "https://localhost:8080/"
    },
    "id": "K4f1N0iPkE_i",
    "outputId": "c1bdf655-e7ed-489b-fac4-dacac94c9a61"
   },
   "outputs": [
    {
     "data": {
      "text/plain": [
       "(5049, 2)"
      ]
     },
     "execution_count": 11,
     "metadata": {},
     "output_type": "execute_result"
    }
   ],
   "source": [
    "df.shape"
   ]
  },
  {
   "cell_type": "code",
   "execution_count": 12,
   "metadata": {
    "colab": {
     "base_uri": "https://localhost:8080/"
    },
    "id": "9f14ZbxuliY7",
    "outputId": "76c0ee5b-110f-4847-930c-e395e97556e6"
   },
   "outputs": [
    {
     "data": {
      "text/plain": [
       "Tweet    0\n",
       "Kelas    0\n",
       "dtype: int64"
      ]
     },
     "execution_count": 12,
     "metadata": {},
     "output_type": "execute_result"
    }
   ],
   "source": [
    "df.isnull().sum()"
   ]
  },
  {
   "cell_type": "code",
   "execution_count": 14,
   "metadata": {
    "id": "SA_DdEYCkIMS"
   },
   "outputs": [],
   "source": [
    "X = df['Tweet']\n",
    "y = df['Kelas']"
   ]
  },
  {
   "cell_type": "code",
   "execution_count": 21,
   "metadata": {},
   "outputs": [
    {
     "data": {
      "text/plain": [
       "['ada', 'adalah', 'adanya', 'adapun', 'agak']"
      ]
     },
     "execution_count": 21,
     "metadata": {},
     "output_type": "execute_result"
    }
   ],
   "source": [
    "f=open('Dictionary/StopWord/id.stopwords.02.01.2016.txt')\n",
    "ina_stopword = f.read()\n",
    "ina_stopword = ina_stopword.split('\\n')\n",
    "ina_stopword[:5]"
   ]
  },
  {
   "cell_type": "code",
   "execution_count": 22,
   "metadata": {
    "id": "eiCRlGkWkdjI"
   },
   "outputs": [],
   "source": [
    "# Inisialisasi objek stemmer\n",
    "factory = StemmerFactory()\n",
    "stemmer = factory.create_stemmer()\n",
    "\n",
    "# Pra-pemrosesan teks\n",
    "komentar_preprocessed = []\n",
    "\n",
    "for i in range(len(X)):\n",
    "    try:\n",
    "        # Menghapus karakter non-alphabet\n",
    "        review = re.sub('[^a-zA-Z]', ' ', str(X[i]))\n",
    "        review = review.lower()\n",
    "\n",
    "        # Memisahkan kata-kata menjadi token\n",
    "        review = review.split()\n",
    "\n",
    "        # Menghapus stopwords\n",
    "        review = [word for word in review if not word in set(ina_stopword)]\n",
    "\n",
    "        # Melakukan stemming pada kata-kata\n",
    "        review_stemmed = [stemmer.stem(word) for word in review]\n",
    "\n",
    "        # Menggabungkan kata-kata yang telah diproses kembali menjadi kalimat\n",
    "        review_preprocessed = ' '.join(review_stemmed)\n",
    "\n",
    "        # Menambahkan kalimat yang telah diproses ke dalam list komentar_preprocessed\n",
    "        komentar_preprocessed.append(review_preprocessed)\n",
    "    except TypeError:\n",
    "        print(\"Data pada X[\", i, \"] bukan string atau bytes-like object.\")"
   ]
  },
  {
   "cell_type": "code",
   "execution_count": 23,
   "metadata": {},
   "outputs": [
    {
     "data": {
      "text/plain": [
       "array(['ab', 'abad', 'abai', 'abang', 'abang admin'], dtype=object)"
      ]
     },
     "execution_count": 23,
     "metadata": {},
     "output_type": "execute_result"
    }
   ],
   "source": [
    "tfidf = TfidfVectorizer(max_features=10000, stop_words=ina_stopword, ngram_range=(1,3), min_df=2, max_df=0.5)\n",
    "X_tf_idf = tfidf.fit_transform(komentar_preprocessed).toarray()\n",
    "\n",
    "# Cek jumlah kata\n",
    "tfidf.get_feature_names_out()[:5]"
   ]
  },
  {
   "cell_type": "code",
   "execution_count": 24,
   "metadata": {
    "id": "ASUWf-xAkfrm"
   },
   "outputs": [],
   "source": [
    "feature = tfidf.get_feature_names_out()"
   ]
  },
  {
   "cell_type": "code",
   "execution_count": 26,
   "metadata": {},
   "outputs": [],
   "source": [
    "# ubah tipedata feature menjadi dataframe\n",
    "Tweet = pd.DataFrame(feature, columns=['Tweet'])"
   ]
  },
  {
   "cell_type": "code",
   "execution_count": 27,
   "metadata": {
    "id": "CVd1q8lIn06B"
   },
   "outputs": [],
   "source": [
    "df_0 = pd.concat([Tweet, y], axis=1)"
   ]
  },
  {
   "cell_type": "code",
   "execution_count": 28,
   "metadata": {
    "colab": {
     "base_uri": "https://localhost:8080/",
     "height": 424
    },
    "id": "N2pvobsWn3ap",
    "outputId": "9e46a78c-ca0e-45ff-9df3-2d1c1a625ffd"
   },
   "outputs": [
    {
     "data": {
      "text/html": [
       "<div>\n",
       "<style scoped>\n",
       "    .dataframe tbody tr th:only-of-type {\n",
       "        vertical-align: middle;\n",
       "    }\n",
       "\n",
       "    .dataframe tbody tr th {\n",
       "        vertical-align: top;\n",
       "    }\n",
       "\n",
       "    .dataframe thead th {\n",
       "        text-align: right;\n",
       "    }\n",
       "</style>\n",
       "<table border=\"1\" class=\"dataframe\">\n",
       "  <thead>\n",
       "    <tr style=\"text-align: right;\">\n",
       "      <th></th>\n",
       "      <th>Tweet</th>\n",
       "      <th>Kelas</th>\n",
       "    </tr>\n",
       "  </thead>\n",
       "  <tbody>\n",
       "    <tr>\n",
       "      <th>0</th>\n",
       "      <td>ab</td>\n",
       "      <td>Negatif</td>\n",
       "    </tr>\n",
       "    <tr>\n",
       "      <th>1</th>\n",
       "      <td>abad</td>\n",
       "      <td>Positif</td>\n",
       "    </tr>\n",
       "    <tr>\n",
       "      <th>2</th>\n",
       "      <td>abai</td>\n",
       "      <td>Positif</td>\n",
       "    </tr>\n",
       "    <tr>\n",
       "      <th>3</th>\n",
       "      <td>abang</td>\n",
       "      <td>Negatif</td>\n",
       "    </tr>\n",
       "    <tr>\n",
       "      <th>4</th>\n",
       "      <td>abang admin</td>\n",
       "      <td>Positif</td>\n",
       "    </tr>\n",
       "    <tr>\n",
       "      <th>...</th>\n",
       "      <td>...</td>\n",
       "      <td>...</td>\n",
       "    </tr>\n",
       "    <tr>\n",
       "      <th>9995</th>\n",
       "      <td>yuk</td>\n",
       "      <td>NaN</td>\n",
       "    </tr>\n",
       "    <tr>\n",
       "      <th>9996</th>\n",
       "      <td>zaman</td>\n",
       "      <td>NaN</td>\n",
       "    </tr>\n",
       "    <tr>\n",
       "      <th>9997</th>\n",
       "      <td>zhx</td>\n",
       "      <td>NaN</td>\n",
       "    </tr>\n",
       "    <tr>\n",
       "      <th>9998</th>\n",
       "      <td>zhx transjakarta</td>\n",
       "      <td>NaN</td>\n",
       "    </tr>\n",
       "    <tr>\n",
       "      <th>9999</th>\n",
       "      <td>zl</td>\n",
       "      <td>NaN</td>\n",
       "    </tr>\n",
       "  </tbody>\n",
       "</table>\n",
       "<p>10000 rows × 2 columns</p>\n",
       "</div>"
      ],
      "text/plain": [
       "                 Tweet    Kelas\n",
       "0     ab                Negatif\n",
       "1     abad              Positif\n",
       "2     abai              Positif\n",
       "3     abang             Negatif\n",
       "4     abang admin       Positif\n",
       "...           ...           ...\n",
       "9995  yuk               NaN    \n",
       "9996  zaman             NaN    \n",
       "9997  zhx               NaN    \n",
       "9998  zhx transjakarta  NaN    \n",
       "9999  zl                NaN    \n",
       "\n",
       "[10000 rows x 2 columns]"
      ]
     },
     "execution_count": 28,
     "metadata": {},
     "output_type": "execute_result"
    }
   ],
   "source": [
    "df_0"
   ]
  },
  {
   "cell_type": "code",
   "execution_count": 29,
   "metadata": {
    "colab": {
     "base_uri": "https://localhost:8080/"
    },
    "id": "2iUwXo-yn5xw",
    "outputId": "15e2c7ab-b435-4e41-ec95-b892afe70b06"
   },
   "outputs": [
    {
     "data": {
      "text/plain": [
       "Tweet    0   \n",
       "Kelas    4951\n",
       "dtype: int64"
      ]
     },
     "execution_count": 29,
     "metadata": {},
     "output_type": "execute_result"
    }
   ],
   "source": [
    "df_0.isnull().sum()"
   ]
  },
  {
   "cell_type": "code",
   "execution_count": 30,
   "metadata": {
    "id": "7_JUL-CLn86S"
   },
   "outputs": [],
   "source": [
    "df_0.dropna(inplace=True)"
   ]
  },
  {
   "cell_type": "code",
   "execution_count": 31,
   "metadata": {
    "colab": {
     "base_uri": "https://localhost:8080/"
    },
    "id": "did8jXn6oAES",
    "outputId": "2e1a04c5-3985-4e97-f05c-0a85700fbeed"
   },
   "outputs": [
    {
     "data": {
      "text/plain": [
       "Tweet    0\n",
       "Kelas    0\n",
       "dtype: int64"
      ]
     },
     "execution_count": 31,
     "metadata": {},
     "output_type": "execute_result"
    }
   ],
   "source": [
    "df_0.isnull().sum()"
   ]
  },
  {
   "cell_type": "code",
   "execution_count": 32,
   "metadata": {
    "id": "BWvWMb_6oCIN"
   },
   "outputs": [],
   "source": [
    "df_0.to_csv('Untuk_Manual.csv', encoding='utf-8')"
   ]
  },
  {
   "cell_type": "code",
   "execution_count": 33,
   "metadata": {
    "colab": {
     "base_uri": "https://localhost:8080/",
     "height": 206
    },
    "id": "uanmIS0eoIF5",
    "outputId": "86b107d3-882f-4dc2-cd4c-de0b44a25519"
   },
   "outputs": [
    {
     "data": {
      "text/html": [
       "<div>\n",
       "<style scoped>\n",
       "    .dataframe tbody tr th:only-of-type {\n",
       "        vertical-align: middle;\n",
       "    }\n",
       "\n",
       "    .dataframe tbody tr th {\n",
       "        vertical-align: top;\n",
       "    }\n",
       "\n",
       "    .dataframe thead th {\n",
       "        text-align: right;\n",
       "    }\n",
       "</style>\n",
       "<table border=\"1\" class=\"dataframe\">\n",
       "  <thead>\n",
       "    <tr style=\"text-align: right;\">\n",
       "      <th></th>\n",
       "      <th>Unnamed: 0</th>\n",
       "      <th>Tweet</th>\n",
       "      <th>Kelas</th>\n",
       "    </tr>\n",
       "  </thead>\n",
       "  <tbody>\n",
       "    <tr>\n",
       "      <th>0</th>\n",
       "      <td>0</td>\n",
       "      <td>ab</td>\n",
       "      <td>Negatif</td>\n",
       "    </tr>\n",
       "    <tr>\n",
       "      <th>1</th>\n",
       "      <td>1</td>\n",
       "      <td>abad</td>\n",
       "      <td>Positif</td>\n",
       "    </tr>\n",
       "    <tr>\n",
       "      <th>2</th>\n",
       "      <td>2</td>\n",
       "      <td>abai</td>\n",
       "      <td>Positif</td>\n",
       "    </tr>\n",
       "    <tr>\n",
       "      <th>3</th>\n",
       "      <td>3</td>\n",
       "      <td>abang</td>\n",
       "      <td>Negatif</td>\n",
       "    </tr>\n",
       "    <tr>\n",
       "      <th>4</th>\n",
       "      <td>4</td>\n",
       "      <td>abang admin</td>\n",
       "      <td>Positif</td>\n",
       "    </tr>\n",
       "  </tbody>\n",
       "</table>\n",
       "</div>"
      ],
      "text/plain": [
       "   Unnamed: 0        Tweet    Kelas\n",
       "0  0           ab           Negatif\n",
       "1  1           abad         Positif\n",
       "2  2           abai         Positif\n",
       "3  3           abang        Negatif\n",
       "4  4           abang admin  Positif"
      ]
     },
     "execution_count": 33,
     "metadata": {},
     "output_type": "execute_result"
    }
   ],
   "source": [
    "data = pd.read_csv('Untuk_Manual.csv')\n",
    "data.head()"
   ]
  },
  {
   "cell_type": "code",
   "execution_count": 34,
   "metadata": {},
   "outputs": [
    {
     "data": {
      "text/plain": [
       "(2228, 2)"
      ]
     },
     "execution_count": 34,
     "metadata": {},
     "output_type": "execute_result"
    }
   ],
   "source": [
    "pd.set_option('display.max_colwidth', 3000)\n",
    "positive_tweets = df[df['Kelas'] == 'Positif']\n",
    "positive_tweets.shape"
   ]
  },
  {
   "cell_type": "code",
   "execution_count": 36,
   "metadata": {},
   "outputs": [
    {
     "data": {
      "text/plain": [
       "(2821, 2)"
      ]
     },
     "execution_count": 36,
     "metadata": {},
     "output_type": "execute_result"
    }
   ],
   "source": [
    "pd.set_option('display.max_colwidth', 3000)\n",
    "negative_tweets = df[df['Kelas'] == 'Negatif']\n",
    "negative_tweets.shape"
   ]
  },
  {
   "cell_type": "code",
   "execution_count": null,
   "metadata": {},
   "outputs": [],
   "source": []
  }
 ],
 "metadata": {
  "colab": {
   "provenance": []
  },
  "kernelspec": {
   "display_name": "Python 3 (ipykernel)",
   "language": "python",
   "name": "python3"
  },
  "language_info": {
   "codemirror_mode": {
    "name": "ipython",
    "version": 3
   },
   "file_extension": ".py",
   "mimetype": "text/x-python",
   "name": "python",
   "nbconvert_exporter": "python",
   "pygments_lexer": "ipython3",
   "version": "3.10.9"
  }
 },
 "nbformat": 4,
 "nbformat_minor": 1
}
